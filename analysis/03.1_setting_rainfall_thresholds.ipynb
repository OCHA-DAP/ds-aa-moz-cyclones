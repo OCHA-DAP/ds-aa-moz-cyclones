{
 "cells": [
  {
   "cell_type": "markdown",
   "metadata": {},
   "source": [
    "# Setting some Thresholds for Rainfall"
   ]
  },
  {
   "cell_type": "code",
   "execution_count": 52,
   "metadata": {},
   "outputs": [
    {
     "name": "stdout",
     "output_type": "stream",
     "text": [
      "The jupyter_black extension is already loaded. To reload it, use:\n",
      "  %reload_ext jupyter_black\n"
     ]
    }
   ],
   "source": [
    "%load_ext jupyter_black\n",
    "import os\n",
    "import pandas as pd\n",
    "import numpy as np\n",
    "from dotenv import load_dotenv\n",
    "from pathlib import Path\n",
    "import geopandas as gpd\n",
    "from azure.storage.blob import ContainerClient\n",
    "import warnings\n",
    "import plotly.express as px\n",
    "import plotly.graph_objects as go\n",
    "import datetime\n",
    "from datetime import timedelta"
   ]
  },
  {
   "cell_type": "code",
   "execution_count": 26,
   "metadata": {},
   "outputs": [],
   "source": [
    "warnings.filterwarnings(\"ignore\")\n",
    "AA_DATA_DIR = Path(os.getenv(\"AA_DATA_DIR\"))\n",
    "AA_DATA_DIR_NEW = Path(os.getenv(\"AA_DATA_DIR_NEW\"))\n",
    "\n",
    "ADMS = [\"Sofala\", \"Inhambane\", \"Nampula\", \"Zambezia\"]"
   ]
  },
  {
   "cell_type": "code",
   "execution_count": 5,
   "metadata": {},
   "outputs": [],
   "source": [
    "emdat_path = (\n",
    "    AA_DATA_DIR_NEW\n",
    "    / \"private\"\n",
    "    / \"processed\"\n",
    "    / \"glb\"\n",
    "    / \"emdat\"\n",
    "    / \"emdat-tropicalcyclone-2000-2022-processed-sids.csv\"\n",
    ")\n",
    "\n",
    "ibtracs_path = (\n",
    "    Path(AA_DATA_DIR)\n",
    "    / \"public\"\n",
    "    / \"raw\"\n",
    "    / \"glb\"\n",
    "    / \"ibtracs\"\n",
    "    / \"IBTrACS.SI.list.v04r01.points/IBTrACS.SI.list.v04r01.points.shp\"\n",
    ")\n",
    "\n",
    "adm1_path = (\n",
    "    AA_DATA_DIR\n",
    "    / \"public\"\n",
    "    / \"raw\"\n",
    "    / \"moz\"\n",
    "    / \"cod_ab\"\n",
    "    / \"moz_admbnda_adm1_ine_20190607.shp\"\n",
    ")\n",
    "\n",
    "df_emdat = pd.read_csv(emdat_path)\n",
    "gdf_adm1 = gpd.read_file(adm1_path)\n",
    "gdf_ibtracs = gpd.read_file(ibtracs_path)\n",
    "\n",
    "gdf_adm1_sel = gdf_adm1[gdf_adm1.ADM1_PT.isin(ADMS)]\n",
    "df_emdat = df_emdat[df_emdat.iso3 == \"MOZ\"]  # Just want the impacts to Mozambique"
   ]
  },
  {
   "cell_type": "code",
   "execution_count": 6,
   "metadata": {},
   "outputs": [],
   "source": [
    "imerg_path = (\n",
    "    Path(AA_DATA_DIR) / \"public\" / \"processed\" / \"moz\" / \"daily_imerg_precip_adm1.csv\"\n",
    ")\n",
    "\n",
    "# TODO: Take the 2-day rolling sum?\n",
    "df_imerg = pd.read_csv(imerg_path)\n",
    "df_imerg = df_imerg[df_imerg.ADM1.isin(ADMS)]\n",
    "df_imerg[\"date\"] = pd.to_datetime(df_imerg[\"date\"])"
   ]
  },
  {
   "cell_type": "markdown",
   "metadata": {},
   "source": [
    "## Get landfall dates per cyclone and check dates after landfall"
   ]
  },
  {
   "cell_type": "code",
   "execution_count": 177,
   "metadata": {},
   "outputs": [],
   "source": [
    "gdf_adm1_sel_buff = gdf_adm1[gdf_adm1.ADM1_PT.isin(ADMS)].buffer(50 / 111)\n",
    "# also making sure to take one time step before landfall since some storms even off shore can cause a lot of rain\n",
    "gdf_ibtracs_time = gdf_ibtracs[gdf_ibtracs[\"year\"] >= 2003]\n",
    "# which cyclones made landfall or came close by around 50km to land\n",
    "landfall_cyclones = gpd.sjoin(\n",
    "    gdf_ibtracs_time, gdf_adm1_sel, how=\"inner\", predicate=\"intersects\"\n",
    ")[\"NAME\"].unique()"
   ]
  },
  {
   "cell_type": "code",
   "execution_count": 244,
   "metadata": {},
   "outputs": [],
   "source": [
    "cyc_ls = []\n",
    "for cyc in landfall_cyclones:\n",
    "    cyc_df = gdf_ibtracs_time[gdf_ibtracs_time[\"NAME\"] == cyc]\n",
    "    cyc_df[\"date\"] = pd.to_datetime(cyc_df[\"ISO_TIME\"]).dt.date\n",
    "    cyc_sjoin = gpd.sjoin(cyc_df, gdf_adm1_sel, how=\"left\", predicate=\"within\")\n",
    "    cyc_df[\"ADM1_PT\"] = cyc_sjoin[\"ADM1_PT\"]\n",
    "    cyc_df[\"actual_within_land\"] = cyc_sjoin[\"index_right\"].notna()\n",
    "    cyc_df[\"point_location\"] = np.where(\n",
    "        cyc_df[\"actual_within_land\"], \"Within\", \"Outside\"\n",
    "    )\n",
    "    first_landfall = (\n",
    "        cyc_df[cyc_df[\"actual_within_land\"]].index[0]\n",
    "        if not cyc_df[cyc_df[\"actual_within_land\"]].empty\n",
    "        else None\n",
    "    )\n",
    "    cyc_df.loc[cyc_df.index == first_landfall, \"point_location\"] = \"Landfall\"\n",
    "    landfall_time = pd.to_datetime(\n",
    "        cyc_df[cyc_df[\"point_location\"] == \"Landfall\"][\"ISO_TIME\"].values[0]\n",
    "    )\n",
    "    df_imerg_cyc = df_imerg[\n",
    "        (df_imerg[\"date\"] >= landfall_time - timedelta(days=2))\n",
    "        & (df_imerg[\"date\"] <= landfall_time + timedelta(days=6))\n",
    "    ]\n",
    "    df_imerg_cyc.drop(columns=[\"Unnamed: 0\"], inplace=True)\n",
    "    if len(df_imerg_cyc) == 0:\n",
    "        continue\n",
    "    df_wide = (\n",
    "        df_imerg_cyc.pivot(index=\"date\", columns=\"ADM1\", values=\"total_precipitation\")\n",
    "        .add_suffix(\"_rainfall\")\n",
    "        .reset_index()\n",
    "    )\n",
    "    df_wide[\"date\"] = pd.to_datetime(df_wide[\"date\"]).dt.date\n",
    "    merged_df = pd.merge(cyc_df, df_wide, on=\"date\", how=\"right\")\n",
    "    merged_df = pd.merge(\n",
    "        merged_df,\n",
    "        df_emdat[[\"sid\", \"Total Affected\"]],\n",
    "        left_on=\"SID\",\n",
    "        right_on=\"sid\",\n",
    "        how=\"outer\",\n",
    "    )\n",
    "    cyc_location = (\n",
    "        cyc_df.groupby([\"date\"])\n",
    "        .apply(\n",
    "            lambda x: (\n",
    "                \"Landfall\"\n",
    "                if \"Landfall\" in x[\"point_location\"].values\n",
    "                else x[\"point_location\"].unique()[0]\n",
    "            )\n",
    "        )\n",
    "        .reset_index(name=\"status\")\n",
    "    )\n",
    "    mode_columns = [\n",
    "        \"ADM1_PT\",\n",
    "        \"Inhambane_rainfall\",\n",
    "        \"Nampula_rainfall\",\n",
    "        \"Sofala_rainfall\",\n",
    "        \"Zambezia_rainfall\",\n",
    "        \"Total Affected\",\n",
    "    ]\n",
    "    mode_df = (\n",
    "        merged_df.groupby(\"date\")[mode_columns]\n",
    "        .apply(lambda x: x.mode().iloc[0])\n",
    "        .reset_index()\n",
    "    )\n",
    "    cyclone_df = pd.merge(cyc_location, mode_df, on=\"date\", how=\"right\")\n",
    "    cyclone_df[\"storm\"] = cyc\n",
    "    cyc_ls.append(cyclone_df)\n",
    "\n",
    "complete_df = pd.concat(cyc_ls)"
   ]
  },
  {
   "cell_type": "code",
   "execution_count": 245,
   "metadata": {},
   "outputs": [],
   "source": [
    "landfall_dates = (\n",
    "    complete_df[complete_df[\"status\"] == \"Landfall\"]\n",
    "    .set_index(\"storm\")[\"date\"]\n",
    "    .to_dict()\n",
    ")\n",
    "\n",
    "# Calculate relative time steps\n",
    "complete_df[\"relative_day\"] = complete_df.apply(\n",
    "    lambda row: (\n",
    "        (row[\"date\"] - landfall_dates.get(row[\"storm\"], pd.NaT)).days\n",
    "        if row[\"storm\"] in landfall_dates\n",
    "        else None\n",
    "    ),\n",
    "    axis=1,\n",
    ")"
   ]
  },
  {
   "cell_type": "code",
   "execution_count": 247,
   "metadata": {},
   "outputs": [],
   "source": [
    "percentile_80 = (\n",
    "    complete_df.groupby(\"relative_day\")[\n",
    "        [\n",
    "            \"Inhambane_rainfall\",\n",
    "            \"Nampula_rainfall\",\n",
    "            \"Sofala_rainfall\",\n",
    "            \"Zambezia_rainfall\",\n",
    "        ]\n",
    "    ]\n",
    "    .quantile(0.80)\n",
    "    .reset_index()\n",
    ")"
   ]
  },
  {
   "cell_type": "code",
   "execution_count": 249,
   "metadata": {},
   "outputs": [],
   "source": [
    "# Merge the percentile thresholds back into the original DataFrame\n",
    "complete_df = pd.merge(\n",
    "    complete_df, percentile_80, on=\"relative_day\", suffixes=(\"\", \"_80th\")\n",
    ")"
   ]
  },
  {
   "cell_type": "code",
   "execution_count": 251,
   "metadata": {},
   "outputs": [],
   "source": [
    "complete_df[\"Inhambane_trigger\"] = (\n",
    "    complete_df[\"Inhambane_rainfall\"] > complete_df[\"Inhambane_rainfall_80th\"]\n",
    ")\n",
    "complete_df[\"Nampula_trigger\"] = (\n",
    "    complete_df[\"Nampula_rainfall\"] > complete_df[\"Nampula_rainfall_80th\"]\n",
    ")\n",
    "complete_df[\"Sofala_trigger\"] = (\n",
    "    complete_df[\"Sofala_rainfall\"] > complete_df[\"Sofala_rainfall_80th\"]\n",
    ")\n",
    "complete_df[\"Zambezia_trigger\"] = (\n",
    "    complete_df[\"Zambezia_rainfall\"] > complete_df[\"Zambezia_rainfall_80th\"]\n",
    ")"
   ]
  },
  {
   "cell_type": "code",
   "execution_count": 257,
   "metadata": {},
   "outputs": [
    {
     "data": {
      "application/vnd.plotly.v1+json": {
       "config": {
        "plotlyServerURL": "https://plot.ly"
       },
       "data": [
        {
         "marker": {
          "size": 8
         },
         "mode": "lines+markers",
         "name": "Inhambane",
         "type": "scatter",
         "x": [
          -2,
          -1,
          0,
          1,
          2,
          3,
          4,
          5,
          6
         ],
         "y": [
          21,
          2422,
          5716.636363636364,
          3634.409090909091,
          2537.318181818182,
          3810.5454545454545,
          3309.8636363636365,
          1255.090909090909,
          1164.090909090909
         ]
        },
        {
         "marker": {
          "size": 8
         },
         "mode": "lines+markers",
         "name": "Nampula",
         "type": "scatter",
         "x": [
          -2,
          -1,
          0,
          1,
          2,
          3,
          4,
          5,
          6
         ],
         "y": [
          6568,
          11436.681818181818,
          11970.181818181818,
          6878.590909090909,
          5899.772727272727,
          4876.227272727273,
          4262.863636363636,
          4293.590909090909,
          3868.0454545454545
         ]
        },
        {
         "marker": {
          "size": 8
         },
         "mode": "lines+markers",
         "name": "Sofala",
         "type": "scatter",
         "x": [
          -2,
          -1,
          0,
          1,
          2,
          3,
          4,
          5,
          6
         ],
         "y": [
          478,
          5364.545454545455,
          6660.681818181818,
          6656.045454545455,
          6608.818181818182,
          5461.681818181818,
          5396.863636363636,
          5728.545454545455,
          4400.318181818182
         ]
        },
        {
         "marker": {
          "size": 8
         },
         "mode": "lines+markers",
         "name": "Zambezia",
         "type": "scatter",
         "x": [
          -2,
          -1,
          0,
          1,
          2,
          3,
          4,
          5,
          6
         ],
         "y": [
          53589,
          15502.5,
          20037.909090909092,
          12282.863636363636,
          12595.5,
          9952.272727272728,
          8961.454545454546,
          5834.227272727273,
          7018.454545454545
         ]
        }
       ],
       "layout": {
        "legend": {
         "title": {
          "text": "Regions"
         }
        },
        "template": {
         "data": {
          "bar": [
           {
            "error_x": {
             "color": "#2a3f5f"
            },
            "error_y": {
             "color": "#2a3f5f"
            },
            "marker": {
             "line": {
              "color": "white",
              "width": 0.5
             },
             "pattern": {
              "fillmode": "overlay",
              "size": 10,
              "solidity": 0.2
             }
            },
            "type": "bar"
           }
          ],
          "barpolar": [
           {
            "marker": {
             "line": {
              "color": "white",
              "width": 0.5
             },
             "pattern": {
              "fillmode": "overlay",
              "size": 10,
              "solidity": 0.2
             }
            },
            "type": "barpolar"
           }
          ],
          "carpet": [
           {
            "aaxis": {
             "endlinecolor": "#2a3f5f",
             "gridcolor": "#C8D4E3",
             "linecolor": "#C8D4E3",
             "minorgridcolor": "#C8D4E3",
             "startlinecolor": "#2a3f5f"
            },
            "baxis": {
             "endlinecolor": "#2a3f5f",
             "gridcolor": "#C8D4E3",
             "linecolor": "#C8D4E3",
             "minorgridcolor": "#C8D4E3",
             "startlinecolor": "#2a3f5f"
            },
            "type": "carpet"
           }
          ],
          "choropleth": [
           {
            "colorbar": {
             "outlinewidth": 0,
             "ticks": ""
            },
            "type": "choropleth"
           }
          ],
          "contour": [
           {
            "colorbar": {
             "outlinewidth": 0,
             "ticks": ""
            },
            "colorscale": [
             [
              0,
              "#0d0887"
             ],
             [
              0.1111111111111111,
              "#46039f"
             ],
             [
              0.2222222222222222,
              "#7201a8"
             ],
             [
              0.3333333333333333,
              "#9c179e"
             ],
             [
              0.4444444444444444,
              "#bd3786"
             ],
             [
              0.5555555555555556,
              "#d8576b"
             ],
             [
              0.6666666666666666,
              "#ed7953"
             ],
             [
              0.7777777777777778,
              "#fb9f3a"
             ],
             [
              0.8888888888888888,
              "#fdca26"
             ],
             [
              1,
              "#f0f921"
             ]
            ],
            "type": "contour"
           }
          ],
          "contourcarpet": [
           {
            "colorbar": {
             "outlinewidth": 0,
             "ticks": ""
            },
            "type": "contourcarpet"
           }
          ],
          "heatmap": [
           {
            "colorbar": {
             "outlinewidth": 0,
             "ticks": ""
            },
            "colorscale": [
             [
              0,
              "#0d0887"
             ],
             [
              0.1111111111111111,
              "#46039f"
             ],
             [
              0.2222222222222222,
              "#7201a8"
             ],
             [
              0.3333333333333333,
              "#9c179e"
             ],
             [
              0.4444444444444444,
              "#bd3786"
             ],
             [
              0.5555555555555556,
              "#d8576b"
             ],
             [
              0.6666666666666666,
              "#ed7953"
             ],
             [
              0.7777777777777778,
              "#fb9f3a"
             ],
             [
              0.8888888888888888,
              "#fdca26"
             ],
             [
              1,
              "#f0f921"
             ]
            ],
            "type": "heatmap"
           }
          ],
          "heatmapgl": [
           {
            "colorbar": {
             "outlinewidth": 0,
             "ticks": ""
            },
            "colorscale": [
             [
              0,
              "#0d0887"
             ],
             [
              0.1111111111111111,
              "#46039f"
             ],
             [
              0.2222222222222222,
              "#7201a8"
             ],
             [
              0.3333333333333333,
              "#9c179e"
             ],
             [
              0.4444444444444444,
              "#bd3786"
             ],
             [
              0.5555555555555556,
              "#d8576b"
             ],
             [
              0.6666666666666666,
              "#ed7953"
             ],
             [
              0.7777777777777778,
              "#fb9f3a"
             ],
             [
              0.8888888888888888,
              "#fdca26"
             ],
             [
              1,
              "#f0f921"
             ]
            ],
            "type": "heatmapgl"
           }
          ],
          "histogram": [
           {
            "marker": {
             "pattern": {
              "fillmode": "overlay",
              "size": 10,
              "solidity": 0.2
             }
            },
            "type": "histogram"
           }
          ],
          "histogram2d": [
           {
            "colorbar": {
             "outlinewidth": 0,
             "ticks": ""
            },
            "colorscale": [
             [
              0,
              "#0d0887"
             ],
             [
              0.1111111111111111,
              "#46039f"
             ],
             [
              0.2222222222222222,
              "#7201a8"
             ],
             [
              0.3333333333333333,
              "#9c179e"
             ],
             [
              0.4444444444444444,
              "#bd3786"
             ],
             [
              0.5555555555555556,
              "#d8576b"
             ],
             [
              0.6666666666666666,
              "#ed7953"
             ],
             [
              0.7777777777777778,
              "#fb9f3a"
             ],
             [
              0.8888888888888888,
              "#fdca26"
             ],
             [
              1,
              "#f0f921"
             ]
            ],
            "type": "histogram2d"
           }
          ],
          "histogram2dcontour": [
           {
            "colorbar": {
             "outlinewidth": 0,
             "ticks": ""
            },
            "colorscale": [
             [
              0,
              "#0d0887"
             ],
             [
              0.1111111111111111,
              "#46039f"
             ],
             [
              0.2222222222222222,
              "#7201a8"
             ],
             [
              0.3333333333333333,
              "#9c179e"
             ],
             [
              0.4444444444444444,
              "#bd3786"
             ],
             [
              0.5555555555555556,
              "#d8576b"
             ],
             [
              0.6666666666666666,
              "#ed7953"
             ],
             [
              0.7777777777777778,
              "#fb9f3a"
             ],
             [
              0.8888888888888888,
              "#fdca26"
             ],
             [
              1,
              "#f0f921"
             ]
            ],
            "type": "histogram2dcontour"
           }
          ],
          "mesh3d": [
           {
            "colorbar": {
             "outlinewidth": 0,
             "ticks": ""
            },
            "type": "mesh3d"
           }
          ],
          "parcoords": [
           {
            "line": {
             "colorbar": {
              "outlinewidth": 0,
              "ticks": ""
             }
            },
            "type": "parcoords"
           }
          ],
          "pie": [
           {
            "automargin": true,
            "type": "pie"
           }
          ],
          "scatter": [
           {
            "fillpattern": {
             "fillmode": "overlay",
             "size": 10,
             "solidity": 0.2
            },
            "type": "scatter"
           }
          ],
          "scatter3d": [
           {
            "line": {
             "colorbar": {
              "outlinewidth": 0,
              "ticks": ""
             }
            },
            "marker": {
             "colorbar": {
              "outlinewidth": 0,
              "ticks": ""
             }
            },
            "type": "scatter3d"
           }
          ],
          "scattercarpet": [
           {
            "marker": {
             "colorbar": {
              "outlinewidth": 0,
              "ticks": ""
             }
            },
            "type": "scattercarpet"
           }
          ],
          "scattergeo": [
           {
            "marker": {
             "colorbar": {
              "outlinewidth": 0,
              "ticks": ""
             }
            },
            "type": "scattergeo"
           }
          ],
          "scattergl": [
           {
            "marker": {
             "colorbar": {
              "outlinewidth": 0,
              "ticks": ""
             }
            },
            "type": "scattergl"
           }
          ],
          "scattermapbox": [
           {
            "marker": {
             "colorbar": {
              "outlinewidth": 0,
              "ticks": ""
             }
            },
            "type": "scattermapbox"
           }
          ],
          "scatterpolar": [
           {
            "marker": {
             "colorbar": {
              "outlinewidth": 0,
              "ticks": ""
             }
            },
            "type": "scatterpolar"
           }
          ],
          "scatterpolargl": [
           {
            "marker": {
             "colorbar": {
              "outlinewidth": 0,
              "ticks": ""
             }
            },
            "type": "scatterpolargl"
           }
          ],
          "scatterternary": [
           {
            "marker": {
             "colorbar": {
              "outlinewidth": 0,
              "ticks": ""
             }
            },
            "type": "scatterternary"
           }
          ],
          "surface": [
           {
            "colorbar": {
             "outlinewidth": 0,
             "ticks": ""
            },
            "colorscale": [
             [
              0,
              "#0d0887"
             ],
             [
              0.1111111111111111,
              "#46039f"
             ],
             [
              0.2222222222222222,
              "#7201a8"
             ],
             [
              0.3333333333333333,
              "#9c179e"
             ],
             [
              0.4444444444444444,
              "#bd3786"
             ],
             [
              0.5555555555555556,
              "#d8576b"
             ],
             [
              0.6666666666666666,
              "#ed7953"
             ],
             [
              0.7777777777777778,
              "#fb9f3a"
             ],
             [
              0.8888888888888888,
              "#fdca26"
             ],
             [
              1,
              "#f0f921"
             ]
            ],
            "type": "surface"
           }
          ],
          "table": [
           {
            "cells": {
             "fill": {
              "color": "#EBF0F8"
             },
             "line": {
              "color": "white"
             }
            },
            "header": {
             "fill": {
              "color": "#C8D4E3"
             },
             "line": {
              "color": "white"
             }
            },
            "type": "table"
           }
          ]
         },
         "layout": {
          "annotationdefaults": {
           "arrowcolor": "#2a3f5f",
           "arrowhead": 0,
           "arrowwidth": 1
          },
          "autotypenumbers": "strict",
          "coloraxis": {
           "colorbar": {
            "outlinewidth": 0,
            "ticks": ""
           }
          },
          "colorscale": {
           "diverging": [
            [
             0,
             "#8e0152"
            ],
            [
             0.1,
             "#c51b7d"
            ],
            [
             0.2,
             "#de77ae"
            ],
            [
             0.3,
             "#f1b6da"
            ],
            [
             0.4,
             "#fde0ef"
            ],
            [
             0.5,
             "#f7f7f7"
            ],
            [
             0.6,
             "#e6f5d0"
            ],
            [
             0.7,
             "#b8e186"
            ],
            [
             0.8,
             "#7fbc41"
            ],
            [
             0.9,
             "#4d9221"
            ],
            [
             1,
             "#276419"
            ]
           ],
           "sequential": [
            [
             0,
             "#0d0887"
            ],
            [
             0.1111111111111111,
             "#46039f"
            ],
            [
             0.2222222222222222,
             "#7201a8"
            ],
            [
             0.3333333333333333,
             "#9c179e"
            ],
            [
             0.4444444444444444,
             "#bd3786"
            ],
            [
             0.5555555555555556,
             "#d8576b"
            ],
            [
             0.6666666666666666,
             "#ed7953"
            ],
            [
             0.7777777777777778,
             "#fb9f3a"
            ],
            [
             0.8888888888888888,
             "#fdca26"
            ],
            [
             1,
             "#f0f921"
            ]
           ],
           "sequentialminus": [
            [
             0,
             "#0d0887"
            ],
            [
             0.1111111111111111,
             "#46039f"
            ],
            [
             0.2222222222222222,
             "#7201a8"
            ],
            [
             0.3333333333333333,
             "#9c179e"
            ],
            [
             0.4444444444444444,
             "#bd3786"
            ],
            [
             0.5555555555555556,
             "#d8576b"
            ],
            [
             0.6666666666666666,
             "#ed7953"
            ],
            [
             0.7777777777777778,
             "#fb9f3a"
            ],
            [
             0.8888888888888888,
             "#fdca26"
            ],
            [
             1,
             "#f0f921"
            ]
           ]
          },
          "colorway": [
           "#636efa",
           "#EF553B",
           "#00cc96",
           "#ab63fa",
           "#FFA15A",
           "#19d3f3",
           "#FF6692",
           "#B6E880",
           "#FF97FF",
           "#FECB52"
          ],
          "font": {
           "color": "#2a3f5f"
          },
          "geo": {
           "bgcolor": "white",
           "lakecolor": "white",
           "landcolor": "white",
           "showlakes": true,
           "showland": true,
           "subunitcolor": "#C8D4E3"
          },
          "hoverlabel": {
           "align": "left"
          },
          "hovermode": "closest",
          "mapbox": {
           "style": "light"
          },
          "paper_bgcolor": "white",
          "plot_bgcolor": "white",
          "polar": {
           "angularaxis": {
            "gridcolor": "#EBF0F8",
            "linecolor": "#EBF0F8",
            "ticks": ""
           },
           "bgcolor": "white",
           "radialaxis": {
            "gridcolor": "#EBF0F8",
            "linecolor": "#EBF0F8",
            "ticks": ""
           }
          },
          "scene": {
           "xaxis": {
            "backgroundcolor": "white",
            "gridcolor": "#DFE8F3",
            "gridwidth": 2,
            "linecolor": "#EBF0F8",
            "showbackground": true,
            "ticks": "",
            "zerolinecolor": "#EBF0F8"
           },
           "yaxis": {
            "backgroundcolor": "white",
            "gridcolor": "#DFE8F3",
            "gridwidth": 2,
            "linecolor": "#EBF0F8",
            "showbackground": true,
            "ticks": "",
            "zerolinecolor": "#EBF0F8"
           },
           "zaxis": {
            "backgroundcolor": "white",
            "gridcolor": "#DFE8F3",
            "gridwidth": 2,
            "linecolor": "#EBF0F8",
            "showbackground": true,
            "ticks": "",
            "zerolinecolor": "#EBF0F8"
           }
          },
          "shapedefaults": {
           "line": {
            "color": "#2a3f5f"
           }
          },
          "ternary": {
           "aaxis": {
            "gridcolor": "#DFE8F3",
            "linecolor": "#A2B1C6",
            "ticks": ""
           },
           "baxis": {
            "gridcolor": "#DFE8F3",
            "linecolor": "#A2B1C6",
            "ticks": ""
           },
           "bgcolor": "white",
           "caxis": {
            "gridcolor": "#DFE8F3",
            "linecolor": "#A2B1C6",
            "ticks": ""
           }
          },
          "title": {
           "x": 0.05
          },
          "xaxis": {
           "automargin": true,
           "gridcolor": "#EBF0F8",
           "linecolor": "#EBF0F8",
           "ticks": "",
           "title": {
            "standoff": 15
           },
           "zerolinecolor": "#EBF0F8",
           "zerolinewidth": 2
          },
          "yaxis": {
           "automargin": true,
           "gridcolor": "#EBF0F8",
           "linecolor": "#EBF0F8",
           "ticks": "",
           "title": {
            "standoff": 15
           },
           "zerolinecolor": "#EBF0F8",
           "zerolinewidth": 2
          }
         }
        },
        "title": {
         "text": "Total Rainfall Per Day"
        },
        "xaxis": {
         "title": {
          "text": "Days Relative to Cyclone Landfall"
         }
        },
        "yaxis": {
         "title": {
          "text": "Total Rainfall (mm)"
         }
        }
       }
      }
     },
     "metadata": {},
     "output_type": "display_data"
    }
   ],
   "source": [
    "# Aggregate average rainfall per day\n",
    "avg_rainfall_per_day = (\n",
    "    complete_df.groupby(\"relative_day\")\n",
    "    .agg(\n",
    "        {\n",
    "            \"Inhambane_rainfall\": \"mean\",\n",
    "            \"Nampula_rainfall\": \"mean\",\n",
    "            \"Sofala_rainfall\": \"mean\",\n",
    "            \"Zambezia_rainfall\": \"mean\",\n",
    "        }\n",
    "    )\n",
    "    .reset_index()\n",
    ")\n",
    "\n",
    "# Create a Plotly figure\n",
    "fig = go.Figure()\n",
    "\n",
    "# Add traces for each rainfall column\n",
    "fig.add_trace(\n",
    "    go.Scatter(\n",
    "        x=avg_rainfall_per_day[\"relative_day\"],\n",
    "        y=avg_rainfall_per_day[\"Inhambane_rainfall\"],\n",
    "        mode=\"lines+markers\",\n",
    "        name=\"Inhambane\",\n",
    "        marker=dict(size=8),\n",
    "    )\n",
    ")\n",
    "\n",
    "fig.add_trace(\n",
    "    go.Scatter(\n",
    "        x=avg_rainfall_per_day[\"relative_day\"],\n",
    "        y=avg_rainfall_per_day[\"Nampula_rainfall\"],\n",
    "        mode=\"lines+markers\",\n",
    "        name=\"Nampula\",\n",
    "        marker=dict(size=8),\n",
    "    )\n",
    ")\n",
    "\n",
    "fig.add_trace(\n",
    "    go.Scatter(\n",
    "        x=avg_rainfall_per_day[\"relative_day\"],\n",
    "        y=avg_rainfall_per_day[\"Sofala_rainfall\"],\n",
    "        mode=\"lines+markers\",\n",
    "        name=\"Sofala\",\n",
    "        marker=dict(size=8),\n",
    "    )\n",
    ")\n",
    "\n",
    "fig.add_trace(\n",
    "    go.Scatter(\n",
    "        x=avg_rainfall_per_day[\"relative_day\"],\n",
    "        y=avg_rainfall_per_day[\"Zambezia_rainfall\"],\n",
    "        mode=\"lines+markers\",\n",
    "        name=\"Zambezia\",\n",
    "        marker=dict(size=8),\n",
    "    )\n",
    ")\n",
    "\n",
    "# Update layout\n",
    "fig.update_layout(\n",
    "    title=\"Total Rainfall Per Day\",\n",
    "    xaxis_title=\"Days Relative to Cyclone Landfall\",\n",
    "    yaxis_title=\"Total Rainfall (mm)\",\n",
    "    legend_title=\"Regions\",\n",
    "    template=\"plotly_white\",  # You can change to 'plotly_white' or any other theme\n",
    ")\n",
    "\n",
    "# Show the plot\n",
    "fig.show()"
   ]
  },
  {
   "cell_type": "code",
   "execution_count": 278,
   "metadata": {},
   "outputs": [
    {
     "data": {
      "application/vnd.plotly.v1+json": {
       "config": {
        "plotlyServerURL": "https://plot.ly"
       },
       "data": [
        {
         "name": "Inhambane",
         "textposition": "auto",
         "type": "bar",
         "x": [
          "Inhambane",
          "Nampula",
          "Sofala",
          "Zambezia"
         ],
         "y": [
          12052.75,
          432.5,
          7835.333333333333,
          648.6
         ]
        },
        {
         "name": "Nampula",
         "textposition": "auto",
         "type": "bar",
         "x": [
          "Inhambane",
          "Nampula",
          "Sofala",
          "Zambezia"
         ],
         "y": [
          5278,
          22203.666666666668,
          3845,
          15272.6
         ]
        },
        {
         "name": "Sofala",
         "textposition": "auto",
         "type": "bar",
         "x": [
          "Inhambane",
          "Nampula",
          "Sofala",
          "Zambezia"
         ],
         "y": [
          6542.875,
          262.3333333333333,
          15087.333333333334,
          9471.2
         ]
        },
        {
         "name": "Zambezia",
         "textposition": "auto",
         "type": "bar",
         "x": [
          "Inhambane",
          "Nampula",
          "Sofala",
          "Zambezia"
         ],
         "y": [
          5675.5,
          20254.166666666668,
          6708.333333333333,
          50756
         ]
        }
       ],
       "layout": {
        "barmode": "group",
        "template": {
         "data": {
          "bar": [
           {
            "error_x": {
             "color": "#2a3f5f"
            },
            "error_y": {
             "color": "#2a3f5f"
            },
            "marker": {
             "line": {
              "color": "white",
              "width": 0.5
             },
             "pattern": {
              "fillmode": "overlay",
              "size": 10,
              "solidity": 0.2
             }
            },
            "type": "bar"
           }
          ],
          "barpolar": [
           {
            "marker": {
             "line": {
              "color": "white",
              "width": 0.5
             },
             "pattern": {
              "fillmode": "overlay",
              "size": 10,
              "solidity": 0.2
             }
            },
            "type": "barpolar"
           }
          ],
          "carpet": [
           {
            "aaxis": {
             "endlinecolor": "#2a3f5f",
             "gridcolor": "#C8D4E3",
             "linecolor": "#C8D4E3",
             "minorgridcolor": "#C8D4E3",
             "startlinecolor": "#2a3f5f"
            },
            "baxis": {
             "endlinecolor": "#2a3f5f",
             "gridcolor": "#C8D4E3",
             "linecolor": "#C8D4E3",
             "minorgridcolor": "#C8D4E3",
             "startlinecolor": "#2a3f5f"
            },
            "type": "carpet"
           }
          ],
          "choropleth": [
           {
            "colorbar": {
             "outlinewidth": 0,
             "ticks": ""
            },
            "type": "choropleth"
           }
          ],
          "contour": [
           {
            "colorbar": {
             "outlinewidth": 0,
             "ticks": ""
            },
            "colorscale": [
             [
              0,
              "#0d0887"
             ],
             [
              0.1111111111111111,
              "#46039f"
             ],
             [
              0.2222222222222222,
              "#7201a8"
             ],
             [
              0.3333333333333333,
              "#9c179e"
             ],
             [
              0.4444444444444444,
              "#bd3786"
             ],
             [
              0.5555555555555556,
              "#d8576b"
             ],
             [
              0.6666666666666666,
              "#ed7953"
             ],
             [
              0.7777777777777778,
              "#fb9f3a"
             ],
             [
              0.8888888888888888,
              "#fdca26"
             ],
             [
              1,
              "#f0f921"
             ]
            ],
            "type": "contour"
           }
          ],
          "contourcarpet": [
           {
            "colorbar": {
             "outlinewidth": 0,
             "ticks": ""
            },
            "type": "contourcarpet"
           }
          ],
          "heatmap": [
           {
            "colorbar": {
             "outlinewidth": 0,
             "ticks": ""
            },
            "colorscale": [
             [
              0,
              "#0d0887"
             ],
             [
              0.1111111111111111,
              "#46039f"
             ],
             [
              0.2222222222222222,
              "#7201a8"
             ],
             [
              0.3333333333333333,
              "#9c179e"
             ],
             [
              0.4444444444444444,
              "#bd3786"
             ],
             [
              0.5555555555555556,
              "#d8576b"
             ],
             [
              0.6666666666666666,
              "#ed7953"
             ],
             [
              0.7777777777777778,
              "#fb9f3a"
             ],
             [
              0.8888888888888888,
              "#fdca26"
             ],
             [
              1,
              "#f0f921"
             ]
            ],
            "type": "heatmap"
           }
          ],
          "heatmapgl": [
           {
            "colorbar": {
             "outlinewidth": 0,
             "ticks": ""
            },
            "colorscale": [
             [
              0,
              "#0d0887"
             ],
             [
              0.1111111111111111,
              "#46039f"
             ],
             [
              0.2222222222222222,
              "#7201a8"
             ],
             [
              0.3333333333333333,
              "#9c179e"
             ],
             [
              0.4444444444444444,
              "#bd3786"
             ],
             [
              0.5555555555555556,
              "#d8576b"
             ],
             [
              0.6666666666666666,
              "#ed7953"
             ],
             [
              0.7777777777777778,
              "#fb9f3a"
             ],
             [
              0.8888888888888888,
              "#fdca26"
             ],
             [
              1,
              "#f0f921"
             ]
            ],
            "type": "heatmapgl"
           }
          ],
          "histogram": [
           {
            "marker": {
             "pattern": {
              "fillmode": "overlay",
              "size": 10,
              "solidity": 0.2
             }
            },
            "type": "histogram"
           }
          ],
          "histogram2d": [
           {
            "colorbar": {
             "outlinewidth": 0,
             "ticks": ""
            },
            "colorscale": [
             [
              0,
              "#0d0887"
             ],
             [
              0.1111111111111111,
              "#46039f"
             ],
             [
              0.2222222222222222,
              "#7201a8"
             ],
             [
              0.3333333333333333,
              "#9c179e"
             ],
             [
              0.4444444444444444,
              "#bd3786"
             ],
             [
              0.5555555555555556,
              "#d8576b"
             ],
             [
              0.6666666666666666,
              "#ed7953"
             ],
             [
              0.7777777777777778,
              "#fb9f3a"
             ],
             [
              0.8888888888888888,
              "#fdca26"
             ],
             [
              1,
              "#f0f921"
             ]
            ],
            "type": "histogram2d"
           }
          ],
          "histogram2dcontour": [
           {
            "colorbar": {
             "outlinewidth": 0,
             "ticks": ""
            },
            "colorscale": [
             [
              0,
              "#0d0887"
             ],
             [
              0.1111111111111111,
              "#46039f"
             ],
             [
              0.2222222222222222,
              "#7201a8"
             ],
             [
              0.3333333333333333,
              "#9c179e"
             ],
             [
              0.4444444444444444,
              "#bd3786"
             ],
             [
              0.5555555555555556,
              "#d8576b"
             ],
             [
              0.6666666666666666,
              "#ed7953"
             ],
             [
              0.7777777777777778,
              "#fb9f3a"
             ],
             [
              0.8888888888888888,
              "#fdca26"
             ],
             [
              1,
              "#f0f921"
             ]
            ],
            "type": "histogram2dcontour"
           }
          ],
          "mesh3d": [
           {
            "colorbar": {
             "outlinewidth": 0,
             "ticks": ""
            },
            "type": "mesh3d"
           }
          ],
          "parcoords": [
           {
            "line": {
             "colorbar": {
              "outlinewidth": 0,
              "ticks": ""
             }
            },
            "type": "parcoords"
           }
          ],
          "pie": [
           {
            "automargin": true,
            "type": "pie"
           }
          ],
          "scatter": [
           {
            "fillpattern": {
             "fillmode": "overlay",
             "size": 10,
             "solidity": 0.2
            },
            "type": "scatter"
           }
          ],
          "scatter3d": [
           {
            "line": {
             "colorbar": {
              "outlinewidth": 0,
              "ticks": ""
             }
            },
            "marker": {
             "colorbar": {
              "outlinewidth": 0,
              "ticks": ""
             }
            },
            "type": "scatter3d"
           }
          ],
          "scattercarpet": [
           {
            "marker": {
             "colorbar": {
              "outlinewidth": 0,
              "ticks": ""
             }
            },
            "type": "scattercarpet"
           }
          ],
          "scattergeo": [
           {
            "marker": {
             "colorbar": {
              "outlinewidth": 0,
              "ticks": ""
             }
            },
            "type": "scattergeo"
           }
          ],
          "scattergl": [
           {
            "marker": {
             "colorbar": {
              "outlinewidth": 0,
              "ticks": ""
             }
            },
            "type": "scattergl"
           }
          ],
          "scattermapbox": [
           {
            "marker": {
             "colorbar": {
              "outlinewidth": 0,
              "ticks": ""
             }
            },
            "type": "scattermapbox"
           }
          ],
          "scatterpolar": [
           {
            "marker": {
             "colorbar": {
              "outlinewidth": 0,
              "ticks": ""
             }
            },
            "type": "scatterpolar"
           }
          ],
          "scatterpolargl": [
           {
            "marker": {
             "colorbar": {
              "outlinewidth": 0,
              "ticks": ""
             }
            },
            "type": "scatterpolargl"
           }
          ],
          "scatterternary": [
           {
            "marker": {
             "colorbar": {
              "outlinewidth": 0,
              "ticks": ""
             }
            },
            "type": "scatterternary"
           }
          ],
          "surface": [
           {
            "colorbar": {
             "outlinewidth": 0,
             "ticks": ""
            },
            "colorscale": [
             [
              0,
              "#0d0887"
             ],
             [
              0.1111111111111111,
              "#46039f"
             ],
             [
              0.2222222222222222,
              "#7201a8"
             ],
             [
              0.3333333333333333,
              "#9c179e"
             ],
             [
              0.4444444444444444,
              "#bd3786"
             ],
             [
              0.5555555555555556,
              "#d8576b"
             ],
             [
              0.6666666666666666,
              "#ed7953"
             ],
             [
              0.7777777777777778,
              "#fb9f3a"
             ],
             [
              0.8888888888888888,
              "#fdca26"
             ],
             [
              1,
              "#f0f921"
             ]
            ],
            "type": "surface"
           }
          ],
          "table": [
           {
            "cells": {
             "fill": {
              "color": "#EBF0F8"
             },
             "line": {
              "color": "white"
             }
            },
            "header": {
             "fill": {
              "color": "#C8D4E3"
             },
             "line": {
              "color": "white"
             }
            },
            "type": "table"
           }
          ]
         },
         "layout": {
          "annotationdefaults": {
           "arrowcolor": "#2a3f5f",
           "arrowhead": 0,
           "arrowwidth": 1
          },
          "autotypenumbers": "strict",
          "coloraxis": {
           "colorbar": {
            "outlinewidth": 0,
            "ticks": ""
           }
          },
          "colorscale": {
           "diverging": [
            [
             0,
             "#8e0152"
            ],
            [
             0.1,
             "#c51b7d"
            ],
            [
             0.2,
             "#de77ae"
            ],
            [
             0.3,
             "#f1b6da"
            ],
            [
             0.4,
             "#fde0ef"
            ],
            [
             0.5,
             "#f7f7f7"
            ],
            [
             0.6,
             "#e6f5d0"
            ],
            [
             0.7,
             "#b8e186"
            ],
            [
             0.8,
             "#7fbc41"
            ],
            [
             0.9,
             "#4d9221"
            ],
            [
             1,
             "#276419"
            ]
           ],
           "sequential": [
            [
             0,
             "#0d0887"
            ],
            [
             0.1111111111111111,
             "#46039f"
            ],
            [
             0.2222222222222222,
             "#7201a8"
            ],
            [
             0.3333333333333333,
             "#9c179e"
            ],
            [
             0.4444444444444444,
             "#bd3786"
            ],
            [
             0.5555555555555556,
             "#d8576b"
            ],
            [
             0.6666666666666666,
             "#ed7953"
            ],
            [
             0.7777777777777778,
             "#fb9f3a"
            ],
            [
             0.8888888888888888,
             "#fdca26"
            ],
            [
             1,
             "#f0f921"
            ]
           ],
           "sequentialminus": [
            [
             0,
             "#0d0887"
            ],
            [
             0.1111111111111111,
             "#46039f"
            ],
            [
             0.2222222222222222,
             "#7201a8"
            ],
            [
             0.3333333333333333,
             "#9c179e"
            ],
            [
             0.4444444444444444,
             "#bd3786"
            ],
            [
             0.5555555555555556,
             "#d8576b"
            ],
            [
             0.6666666666666666,
             "#ed7953"
            ],
            [
             0.7777777777777778,
             "#fb9f3a"
            ],
            [
             0.8888888888888888,
             "#fdca26"
            ],
            [
             1,
             "#f0f921"
            ]
           ]
          },
          "colorway": [
           "#636efa",
           "#EF553B",
           "#00cc96",
           "#ab63fa",
           "#FFA15A",
           "#19d3f3",
           "#FF6692",
           "#B6E880",
           "#FF97FF",
           "#FECB52"
          ],
          "font": {
           "color": "#2a3f5f"
          },
          "geo": {
           "bgcolor": "white",
           "lakecolor": "white",
           "landcolor": "white",
           "showlakes": true,
           "showland": true,
           "subunitcolor": "#C8D4E3"
          },
          "hoverlabel": {
           "align": "left"
          },
          "hovermode": "closest",
          "mapbox": {
           "style": "light"
          },
          "paper_bgcolor": "white",
          "plot_bgcolor": "white",
          "polar": {
           "angularaxis": {
            "gridcolor": "#EBF0F8",
            "linecolor": "#EBF0F8",
            "ticks": ""
           },
           "bgcolor": "white",
           "radialaxis": {
            "gridcolor": "#EBF0F8",
            "linecolor": "#EBF0F8",
            "ticks": ""
           }
          },
          "scene": {
           "xaxis": {
            "backgroundcolor": "white",
            "gridcolor": "#DFE8F3",
            "gridwidth": 2,
            "linecolor": "#EBF0F8",
            "showbackground": true,
            "ticks": "",
            "zerolinecolor": "#EBF0F8"
           },
           "yaxis": {
            "backgroundcolor": "white",
            "gridcolor": "#DFE8F3",
            "gridwidth": 2,
            "linecolor": "#EBF0F8",
            "showbackground": true,
            "ticks": "",
            "zerolinecolor": "#EBF0F8"
           },
           "zaxis": {
            "backgroundcolor": "white",
            "gridcolor": "#DFE8F3",
            "gridwidth": 2,
            "linecolor": "#EBF0F8",
            "showbackground": true,
            "ticks": "",
            "zerolinecolor": "#EBF0F8"
           }
          },
          "shapedefaults": {
           "line": {
            "color": "#2a3f5f"
           }
          },
          "ternary": {
           "aaxis": {
            "gridcolor": "#DFE8F3",
            "linecolor": "#A2B1C6",
            "ticks": ""
           },
           "baxis": {
            "gridcolor": "#DFE8F3",
            "linecolor": "#A2B1C6",
            "ticks": ""
           },
           "bgcolor": "white",
           "caxis": {
            "gridcolor": "#DFE8F3",
            "linecolor": "#A2B1C6",
            "ticks": ""
           }
          },
          "title": {
           "x": 0.05
          },
          "xaxis": {
           "automargin": true,
           "gridcolor": "#EBF0F8",
           "linecolor": "#EBF0F8",
           "ticks": "",
           "title": {
            "standoff": 15
           },
           "zerolinecolor": "#EBF0F8",
           "zerolinewidth": 2
          },
          "yaxis": {
           "automargin": true,
           "gridcolor": "#EBF0F8",
           "linecolor": "#EBF0F8",
           "ticks": "",
           "title": {
            "standoff": 15
           },
           "zerolinecolor": "#EBF0F8",
           "zerolinewidth": 2
          }
         }
        },
        "title": {
         "text": "Average Rainfall at Landfall by Province"
        },
        "xaxis": {
         "title": {
          "text": "Landfall Province"
         }
        },
        "yaxis": {
         "title": {
          "text": "Average Rainfall (mm)"
         }
        }
       }
      }
     },
     "metadata": {},
     "output_type": "display_data"
    }
   ],
   "source": [
    "# Filter data to include only landfall events\n",
    "landfall_data = complete_df[complete_df[\"status\"] == \"Landfall\"]\n",
    "\n",
    "# Melt the DataFrame to long format for aggregation\n",
    "rainfall_long = landfall_data.melt(\n",
    "    id_vars=[\"ADM1_PT\"],\n",
    "    value_vars=[\n",
    "        \"Inhambane_rainfall\",\n",
    "        \"Nampula_rainfall\",\n",
    "        \"Sofala_rainfall\",\n",
    "        \"Zambezia_rainfall\",\n",
    "    ],\n",
    "    var_name=\"province_rainfall\",\n",
    "    value_name=\"rainfall\",\n",
    ")\n",
    "\n",
    "# Extract province names from column names\n",
    "rainfall_long[\"province\"] = rainfall_long[\"province_rainfall\"].str.replace(\n",
    "    \"_rainfall\", \"\"\n",
    ")\n",
    "\n",
    "# Calculate average rainfall for each province based on ADM1_PT\n",
    "average_rainfall = (\n",
    "    rainfall_long.groupby([\"ADM1_PT\", \"province\"])[\"rainfall\"].mean().reset_index()\n",
    ")\n",
    "\n",
    "# Pivot the DataFrame to get provinces as columns\n",
    "pivot_rainfall = average_rainfall.pivot(\n",
    "    index=\"ADM1_PT\", columns=\"province\", values=\"rainfall\"\n",
    ").fillna(0)\n",
    "\n",
    "# Create a bar plot with Plotly\n",
    "fig = go.Figure()\n",
    "\n",
    "# Add bar traces for each province\n",
    "for province in pivot_rainfall.columns:\n",
    "    fig.add_trace(\n",
    "        go.Bar(\n",
    "            x=pivot_rainfall.index,\n",
    "            y=pivot_rainfall[province],\n",
    "            name=province,\n",
    "            # text=pivot_rainfall[province].apply(lambda x: f\"{x:,.0f}\"),\n",
    "            textposition=\"auto\",\n",
    "        )\n",
    "    )\n",
    "\n",
    "# Update layout\n",
    "fig.update_layout(\n",
    "    title=\"Average Rainfall at Landfall by Province\",\n",
    "    xaxis_title=\"Landfall Province\",\n",
    "    yaxis_title=\"Average Rainfall (mm)\",\n",
    "    barmode=\"group\",  # Stack bars to show totals for each landfall province\n",
    "    template=\"plotly_white\",\n",
    ")\n",
    "\n",
    "fig.show()"
   ]
  }
 ],
 "metadata": {
  "kernelspec": {
   "display_name": ".venv",
   "language": "python",
   "name": "python3"
  },
  "language_info": {
   "codemirror_mode": {
    "name": "ipython",
    "version": 3
   },
   "file_extension": ".py",
   "mimetype": "text/x-python",
   "name": "python",
   "nbconvert_exporter": "python",
   "pygments_lexer": "ipython3",
   "version": "3.11.0"
  }
 },
 "nbformat": 4,
 "nbformat_minor": 2
}
