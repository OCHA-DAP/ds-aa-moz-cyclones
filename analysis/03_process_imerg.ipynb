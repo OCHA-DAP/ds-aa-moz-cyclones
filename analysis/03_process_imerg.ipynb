{
 "cells": [
  {
   "cell_type": "code",
   "execution_count": null,
   "metadata": {},
   "outputs": [],
   "source": [
    "%load_ext jupyter_black\n",
    "%load_ext autoreload\n",
    "%autoreload 2"
   ]
  },
  {
   "cell_type": "code",
   "execution_count": null,
   "metadata": {},
   "outputs": [],
   "source": [
    "import os\n",
    "import tqdm\n",
    "import pandas as pd\n",
    "from dotenv import load_dotenv\n",
    "from pathlib import Path\n",
    "import geopandas as gpd\n",
    "from datetime import datetime\n",
    "import rioxarray as rxr\n",
    "from azure.storage.blob import ContainerClient\n",
    "import xarray as xr\n",
    "import matplotlib.pyplot as plt\n",
    "\n",
    "load_dotenv()\n",
    "ADMS = [\"Sofala\", \"Inhambane\", \"Nampula\", \"Zambezia\"]\n",
    "AA_DATA_DIR = Path(os.getenv(\"AA_DATA_DIR\"))\n",
    "AA_DATA_DIR_NEW = Path(os.getenv(\"AA_DATA_DIR_NEW\"))\n",
    "\n",
    "DEV_BLOB_SAS = os.getenv(\"DSCI_AZ_SAS_DEV\")\n",
    "DEV_BLOB_NAME = \"imb0chd0dev\"\n",
    "DEV_BLOB_URL = f\"https://{DEV_BLOB_NAME}.blob.core.windows.net/\"\n",
    "DEV_BLOB_PROJ_URL = DEV_BLOB_URL + \"projects\" + \"?\" + DEV_BLOB_SAS\n",
    "GLOBAL_CONTAINER_NAME = \"global\"\n",
    "DEV_BLOB_GLB_URL = DEV_BLOB_URL + GLOBAL_CONTAINER_NAME + \"?\" + DEV_BLOB_SAS\n",
    "\n",
    "dev_glb_container_client = ContainerClient.from_container_url(DEV_BLOB_GLB_URL)"
   ]
  },
  {
   "cell_type": "code",
   "execution_count": null,
   "metadata": {},
   "outputs": [],
   "source": [
    "adm1_path = (\n",
    "    AA_DATA_DIR\n",
    "    / \"public\"\n",
    "    / \"raw\"\n",
    "    / \"moz\"\n",
    "    / \"cod_ab\"\n",
    "    / \"moz_admbnda_adm1_ine_20190607.shp\"\n",
    ")\n",
    "\n",
    "gdf_adm1 = gpd.read_file(adm1_path)\n",
    "gdf_sel = gdf_adm1[gdf_adm1.ADM1_PT.isin(ADMS)]\n",
    "\n",
    "minx, miny, maxx, maxy = gdf_sel.total_bounds"
   ]
  },
  {
   "cell_type": "code",
   "execution_count": null,
   "metadata": {},
   "outputs": [],
   "source": [
    "blob_names = existing_files = [\n",
    "    x.name for x in dev_glb_container_client.list_blobs(name_starts_with=\"imerg/v6/\")\n",
    "]"
   ]
  },
  {
   "cell_type": "code",
   "execution_count": null,
   "metadata": {},
   "outputs": [],
   "source": [
    "das = []\n",
    "for blob_name in tqdm.tqdm(blob_names):\n",
    "    cog_url = (\n",
    "        f\"https://{DEV_BLOB_NAME}.blob.core.windows.net/global/\"\n",
    "        f\"{blob_name}?{DEV_BLOB_SAS}\"\n",
    "    )\n",
    "    da_in = rxr.open_rasterio(cog_url, masked=True)\n",
    "    da_in = da_in.sel(x=slice(minx, maxx), y=slice(miny, maxy))\n",
    "    date_in = pd.to_datetime(blob_name.split(\".\")[0][-10:])\n",
    "    da_in[\"date\"] = date_in\n",
    "\n",
    "    # Persisting to reduce the number of downstream Dask layers\n",
    "    da_in = da_in.persist()\n",
    "    das.append(da_in)"
   ]
  },
  {
   "cell_type": "code",
   "execution_count": null,
   "metadata": {},
   "outputs": [],
   "source": [
    "ds = xr.concat(das, dim=\"date\", join=\"override\", combine_attrs=\"drop\")"
   ]
  },
  {
   "cell_type": "code",
   "execution_count": null,
   "metadata": {},
   "outputs": [],
   "source": [
    "# Now clip to the specific geometry\n",
    "ds = ds.rio.write_crs(4326)\n",
    "ds = ds.rio.set_spatial_dims(x_dim=\"x\", y_dim=\"y\")\n",
    "ds_clip = ds.rio.clip(gdf_sel.geometry)"
   ]
  },
  {
   "cell_type": "code",
   "execution_count": null,
   "metadata": {},
   "outputs": [],
   "source": [
    "results = []\n",
    "\n",
    "# TODO: Is there a better way to aggregate here?\n",
    "# These loops will be v slow...\n",
    "for day in ds_clip.date.values:\n",
    "\n",
    "    ds_time = ds_clip.sel(date=day)\n",
    "\n",
    "    for idx, row in gdf_sel.iterrows():\n",
    "        admin_name = row[\"ADM1_PT\"]\n",
    "        polygon = row[\"geometry\"]\n",
    "\n",
    "        ds_clipped = ds_time.rio.clip([polygon], all_touched=True)\n",
    "        total_precipitation = int(ds_clipped.sum(dim=[\"x\", \"y\"]).values[0])\n",
    "\n",
    "        results.append(\n",
    "            {\n",
    "                \"ADM1\": admin_name,\n",
    "                \"date\": pd.to_datetime(day),\n",
    "                \"total_precipitation\": total_precipitation,\n",
    "            }\n",
    "        )"
   ]
  },
  {
   "cell_type": "code",
   "execution_count": null,
   "metadata": {},
   "outputs": [],
   "source": [
    "df_precipitation = pd.DataFrame.from_dict(results)"
   ]
  },
  {
   "cell_type": "code",
   "execution_count": null,
   "metadata": {},
   "outputs": [],
   "source": [
    "# Create a plot to sanity check\n",
    "plt.figure(figsize=(12, 6))\n",
    "\n",
    "# Group by ADM1 and plot each group\n",
    "for adm1, group in df_precipitation.groupby(\"ADM1\"):\n",
    "    plt.plot(group[\"date\"], group[\"total_precipitation\"], label=adm1)\n",
    "\n",
    "plt.xlabel(\"Date\")\n",
    "plt.ylabel(\"Precipitation\")\n",
    "plt.title(\"Total daily precipitation per Province in Mozambique\")\n",
    "plt.legend(title=\"ADM1\")\n",
    "plt.tight_layout()\n",
    "plt.grid(False)\n",
    "plt.show()"
   ]
  },
  {
   "cell_type": "code",
   "execution_count": null,
   "metadata": {},
   "outputs": [],
   "source": [
    "# Now further check by plotting some specific dates\n",
    "# Just observationally, the plots here make sense with the aggregations plotted above\n",
    "# ds_clip.plot(x=\"x\", y=\"y\", col=\"date\", col_wrap=5)"
   ]
  },
  {
   "cell_type": "code",
   "execution_count": null,
   "metadata": {},
   "outputs": [],
   "source": [
    "df_precipitation.to_csv(\n",
    "    AA_DATA_DIR / \"public\" / \"processed\" / \"moz\" / \"daily_imerg_precip_adm1_sel.csv\"\n",
    ")"
   ]
  }
 ],
 "metadata": {
  "kernelspec": {
   "display_name": "venv",
   "language": "python",
   "name": "python3"
  },
  "language_info": {
   "codemirror_mode": {
    "name": "ipython",
    "version": 3
   },
   "file_extension": ".py",
   "mimetype": "text/x-python",
   "name": "python",
   "nbconvert_exporter": "python",
   "pygments_lexer": "ipython3",
   "version": "3.12.4"
  }
 },
 "nbformat": 4,
 "nbformat_minor": 2
}
