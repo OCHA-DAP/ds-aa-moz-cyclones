{
 "cells": [
  {
   "cell_type": "markdown",
   "metadata": {},
   "source": [
    "# Notebook to compute Overall Return Period"
   ]
  },
  {
   "cell_type": "markdown",
   "metadata": {},
   "source": [
    "This notebook computes the return period for the action and observational triggers."
   ]
  },
  {
   "cell_type": "code",
   "execution_count": 1,
   "metadata": {},
   "outputs": [],
   "source": [
    "%load_ext jupyter_black\n",
    "%load_ext autoreload\n",
    "%autoreload 2"
   ]
  },
  {
   "cell_type": "code",
   "execution_count": 7,
   "metadata": {},
   "outputs": [],
   "source": [
    "from pathlib import Path\n",
    "\n",
    "import pandas as pd\n",
    "import numpy as np\n",
    "import matplotlib.pyplot as plt\n",
    "import geopandas as gpd\n",
    "from src.datasources import codab, rsmc\n",
    "from src.constants import *\n",
    "from src import utils"
   ]
  },
  {
   "cell_type": "code",
   "execution_count": 8,
   "metadata": {},
   "outputs": [],
   "source": [
    "adm1 = codab.load_codab(admin_level=1)"
   ]
  },
  {
   "cell_type": "code",
   "execution_count": 9,
   "metadata": {},
   "outputs": [],
   "source": [
    "df_rsmc = rsmc.load_historical_forecast_distances()\n",
    "distance_cols = [x for x in df_rsmc.columns if \"_distance_km\" in x]\n",
    "df_rsmc[\"any_distance_km\"] = df_rsmc[distance_cols].min(axis=1)"
   ]
  },
  {
   "cell_type": "markdown",
   "metadata": {},
   "source": [
    "## Readiness\n"
   ]
  },
  {
   "cell_type": "code",
   "execution_count": 12,
   "metadata": {},
   "outputs": [],
   "source": [
    "storms_readiness = [\"IDAI\", \"FREDDY\", \"GOMBE\", \"ELOISE\", \"CHALANE\"]"
   ]
  },
  {
   "cell_type": "code",
   "execution_count": 13,
   "metadata": {},
   "outputs": [
    {
     "data": {
      "text/plain": [
       "{'CHALANE', 'ELOISE', 'FREDDY', 'GOMBE', 'IDAI'}"
      ]
     },
     "execution_count": 13,
     "metadata": {},
     "output_type": "execute_result"
    }
   ],
   "source": [
    "set(storms_readiness)"
   ]
  },
  {
   "cell_type": "code",
   "execution_count": 17,
   "metadata": {},
   "outputs": [
    {
     "name": "stdout",
     "output_type": "stream",
     "text": [
      "The readiness trigger is met every 2.8 years.\n"
     ]
    }
   ],
   "source": [
    "readiness_yr_len = 14\n",
    "df_readiness_true = len(storms_readiness)\n",
    "print(\n",
    "    f\"The readiness trigger is met every {round(readiness_yr_len / df_readiness_true, 1)} years.\"\n",
    ")"
   ]
  },
  {
   "cell_type": "code",
   "execution_count": 18,
   "metadata": {},
   "outputs": [
    {
     "data": {
      "text/plain": [
       "0.35714285714285715"
      ]
     },
     "execution_count": 18,
     "metadata": {},
     "output_type": "execute_result"
    }
   ],
   "source": [
    "readiness_rate = df_readiness_true / readiness_yr_len\n",
    "readiness_rate"
   ]
  },
  {
   "cell_type": "markdown",
   "metadata": {},
   "source": [
    "## Action"
   ]
  },
  {
   "cell_type": "code",
   "execution_count": 19,
   "metadata": {},
   "outputs": [],
   "source": [
    "action_yr_len = 14"
   ]
  },
  {
   "cell_type": "code",
   "execution_count": 27,
   "metadata": {},
   "outputs": [
    {
     "name": "stdout",
     "output_type": "stream",
     "text": [
      "The action trigger is met every 3.5 years.\n"
     ]
    }
   ],
   "source": [
    "action = set([\"IDAI\", \"FREDDY\", \"GOMBE\", \"ELOISE\"])\n",
    "print(\n",
    "    f\"The action trigger is met every {round(action_yr_len / len(action), 1)} years.\"\n",
    ")"
   ]
  },
  {
   "cell_type": "code",
   "execution_count": 28,
   "metadata": {},
   "outputs": [
    {
     "data": {
      "text/plain": [
       "0.2857142857142857"
      ]
     },
     "execution_count": 28,
     "metadata": {},
     "output_type": "execute_result"
    }
   ],
   "source": [
    "action_rate = len(action) / action_yr_len\n",
    "action_rate"
   ]
  },
  {
   "cell_type": "markdown",
   "metadata": {},
   "source": [
    "## Observational: Wind Speed"
   ]
  },
  {
   "cell_type": "code",
   "execution_count": 97,
   "metadata": {},
   "outputs": [
    {
     "name": "stdout",
     "output_type": "stream",
     "text": [
      "The observational wind speed trigger is met every 2.8 years.\n"
     ]
    }
   ],
   "source": [
    "obs_ws_yr_len = 25\n",
    "obs_ws = set(\n",
    "    [\n",
    "        \"IDAI\",\n",
    "        \"DINEO\",\n",
    "        \"ELOISE\",\n",
    "        \"KENNETH\",\n",
    "        \"JOKWE\",\n",
    "        \"FAVIO\",\n",
    "        \"JAPHET\",\n",
    "        \"HUDAH\",\n",
    "        \"ELINE:LEONE\",\n",
    "    ]\n",
    ")\n",
    "print(\n",
    "    f\"The observational wind speed trigger is met every {round(obs_ws_yr_len / len(obs_ws), 1)} years.\"\n",
    ")"
   ]
  },
  {
   "cell_type": "code",
   "execution_count": 98,
   "metadata": {},
   "outputs": [
    {
     "data": {
      "text/plain": [
       "0.36"
      ]
     },
     "execution_count": 98,
     "metadata": {},
     "output_type": "execute_result"
    }
   ],
   "source": [
    "obs_ws_rate = len(obs_ws) / obs_ws_yr_len\n",
    "obs_ws_rate"
   ]
  },
  {
   "cell_type": "markdown",
   "metadata": {},
   "source": [
    "## Observational: Rainfall"
   ]
  },
  {
   "cell_type": "code",
   "execution_count": 99,
   "metadata": {},
   "outputs": [],
   "source": [
    "obs_rain_yr_len = 23"
   ]
  },
  {
   "cell_type": "code",
   "execution_count": 100,
   "metadata": {},
   "outputs": [
    {
     "name": "stdout",
     "output_type": "stream",
     "text": [
      "The observational rainfall trigger is met every 3.3 years.\n"
     ]
    }
   ],
   "source": [
    "# From notebook 03.2_historical_rainfall\n",
    "obs_rain = set(\n",
    "    [\"IDAI\", \"FREDDY\", \"GOMBE\", \"KENNETH\", \"ANA\", \"DESMOND\", \"JAPHET\"]\n",
    ")\n",
    "print(\n",
    "    f\"The observational rainfall trigger is met every {round(obs_rain_yr_len / len(obs_rain), 1)} years.\"\n",
    ")"
   ]
  },
  {
   "cell_type": "code",
   "execution_count": 101,
   "metadata": {},
   "outputs": [
    {
     "data": {
      "text/plain": [
       "0.30434782608695654"
      ]
     },
     "execution_count": 101,
     "metadata": {},
     "output_type": "execute_result"
    }
   ],
   "source": [
    "obs_rain_rate = len(obs_rain) / obs_rain_yr_len\n",
    "obs_rain_rate"
   ]
  },
  {
   "cell_type": "markdown",
   "metadata": {},
   "source": [
    "## Combined Observational"
   ]
  },
  {
   "cell_type": "markdown",
   "metadata": {},
   "source": [
    "### Combined probability (at least one activates)"
   ]
  },
  {
   "cell_type": "markdown",
   "metadata": {},
   "source": [
    "#### Wind Speed and Rainfall"
   ]
  },
  {
   "cell_type": "markdown",
   "metadata": {},
   "source": [
    "We have to account for the 2 cyclones for which we do not have rainfall data. Both Hudah and Eline Leone were associated with significant rainfall. To account for at least one reaching the threshold, we should adjust the intersection."
   ]
  },
  {
   "cell_type": "code",
   "execution_count": 102,
   "metadata": {},
   "outputs": [
    {
     "name": "stdout",
     "output_type": "stream",
     "text": [
      "Common Cyclones: {'IDAI', 'KENNETH', 'JAPHET'}\n",
      "Probability of Intersection: 0.31\n",
      "Return Period: 1-in-2.8 yr\n"
     ]
    }
   ],
   "source": [
    "common_cyclones = obs_ws.intersection(obs_rain)\n",
    "# common_cyclones.update({\"HUDAH\", \"ELINE:LEONE\"})\n",
    "total_cyclones = obs_ws.union(obs_rain)\n",
    "\n",
    "probability_intersection = (len(common_cyclones) + 1) / len(total_cyclones)\n",
    "\n",
    "print(f\"Common Cyclones: {common_cyclones}\")\n",
    "print(f\"Probability of Intersection: {probability_intersection:.2f}\")\n",
    "print(\n",
    "    f\"Return Period: 1-in-{round(1 / (obs_ws_rate + obs_rain_rate - probability_intersection), 1)} yr\"\n",
    ")"
   ]
  }
 ],
 "metadata": {
  "kernelspec": {
   "display_name": ".venv",
   "language": "python",
   "name": "python3"
  },
  "language_info": {
   "codemirror_mode": {
    "name": "ipython",
    "version": 3
   },
   "file_extension": ".py",
   "mimetype": "text/x-python",
   "name": "python",
   "nbconvert_exporter": "python",
   "pygments_lexer": "ipython3",
   "version": "3.11.0"
  }
 },
 "nbformat": 4,
 "nbformat_minor": 2
}
