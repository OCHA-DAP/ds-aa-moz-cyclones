{
 "cells": [
  {
   "cell_type": "markdown",
   "metadata": {},
   "source": [
    "# Setting Wind speed thresholds"
   ]
  },
  {
   "cell_type": "markdown",
   "metadata": {},
   "source": [
    "This notebook looks at the wind speed forecasts just before and just after landfall to get an indication of what the max wind speed would be for storms and sets a threshold."
   ]
  },
  {
   "cell_type": "code",
   "execution_count": 16,
   "metadata": {},
   "outputs": [
    {
     "name": "stdout",
     "output_type": "stream",
     "text": [
      "The jupyter_black extension is already loaded. To reload it, use:\n",
      "  %reload_ext jupyter_black\n"
     ]
    }
   ],
   "source": [
    "%load_ext jupyter_black\n",
    "\n",
    "import os\n",
    "from pathlib import Path\n",
    "import geopandas as gpd\n",
    "import pandas as pd\n",
    "import numpy as np\n",
    "import plotly.express as px\n",
    "import glob\n",
    "import warnings"
   ]
  },
  {
   "cell_type": "code",
   "execution_count": 2,
   "metadata": {},
   "outputs": [],
   "source": [
    "warnings.filterwarnings(\"ignore\")\n",
    "AA_DATA_DIR = os.getenv(\"AA_DATA_DIR\")\n",
    "save_dir = Path(AA_DATA_DIR) / \"public\" / \"exploration\" / \"moz\" / \"ecmwf_hindcast\"\n",
    "ADMS = [\"Sofala\", \"Inhambane\", \"Nampula\", \"Zambezia\"]\n",
    "adm1_path = (\n",
    "    Path(AA_DATA_DIR)\n",
    "    / \"public\"\n",
    "    / \"raw\"\n",
    "    / \"moz\"\n",
    "    / \"cod_ab\"\n",
    "    / \"moz_admbnda_adm1_ine_20190607.shp\"\n",
    ")\n",
    "gdf_adm1 = gpd.read_file(adm1_path)\n",
    "gdf_sel = gdf_adm1[gdf_adm1.ADM1_PT.isin(ADMS)]"
   ]
  },
  {
   "cell_type": "code",
   "execution_count": 3,
   "metadata": {},
   "outputs": [],
   "source": [
    "def categorize_cyclone(wind_speed):\n",
    "    if wind_speed > 115:\n",
    "        return \"Very Intense Tropical Cyclone\"\n",
    "    elif wind_speed >= 90:\n",
    "        return \"Intense Tropical Cyclone\"\n",
    "    elif wind_speed >= 64:\n",
    "        return \"Tropical Cyclone\"\n",
    "    elif wind_speed >= 48:\n",
    "        return \"Severe Tropical Storm\"\n",
    "    elif wind_speed >= 34:\n",
    "        return \"Moderate Tropical Storm\"\n",
    "    elif wind_speed >= 28:\n",
    "        return \"Tropical Depression\"\n",
    "    else:\n",
    "        return \"Tropical Disturbance\""
   ]
  },
  {
   "cell_type": "code",
   "execution_count": 5,
   "metadata": {},
   "outputs": [],
   "source": [
    "moz_cyclones = [\n",
    "    Path(f).stem.replace(\"_all\", \"\").upper()\n",
    "    for f in glob.glob(str(Path(save_dir) / \"csv\" / \"*_all.csv\"))\n",
    "]"
   ]
  },
  {
   "cell_type": "code",
   "execution_count": 6,
   "metadata": {},
   "outputs": [
    {
     "name": "stdout",
     "output_type": "stream",
     "text": [
      "Processing file: G:\\Shared drives\\Predictive Analytics\\CERF Anticipatory Action\\General - All AA projects\\Data\\public\\exploration\\moz\\ecmwf_hindcast\\csv\\favio_all.csv\n",
      "Processing file: G:\\Shared drives\\Predictive Analytics\\CERF Anticipatory Action\\General - All AA projects\\Data\\public\\exploration\\moz\\ecmwf_hindcast\\csv\\jokwe_all.csv\n",
      "Processing file: G:\\Shared drives\\Predictive Analytics\\CERF Anticipatory Action\\General - All AA projects\\Data\\public\\exploration\\moz\\ecmwf_hindcast\\csv\\izilda_all.csv\n",
      "Processing file: G:\\Shared drives\\Predictive Analytics\\CERF Anticipatory Action\\General - All AA projects\\Data\\public\\exploration\\moz\\ecmwf_hindcast\\csv\\dando_all.csv\n",
      "Processing file: G:\\Shared drives\\Predictive Analytics\\CERF Anticipatory Action\\General - All AA projects\\Data\\public\\exploration\\moz\\ecmwf_hindcast\\csv\\irina_all.csv\n",
      "Processing file: G:\\Shared drives\\Predictive Analytics\\CERF Anticipatory Action\\General - All AA projects\\Data\\public\\exploration\\moz\\ecmwf_hindcast\\csv\\haruna_all.csv\n",
      "Processing file: G:\\Shared drives\\Predictive Analytics\\CERF Anticipatory Action\\General - All AA projects\\Data\\public\\exploration\\moz\\ecmwf_hindcast\\csv\\deliwe_all.csv\n",
      "Processing file: G:\\Shared drives\\Predictive Analytics\\CERF Anticipatory Action\\General - All AA projects\\Data\\public\\exploration\\moz\\ecmwf_hindcast\\csv\\guito_all.csv\n",
      "Processing file: G:\\Shared drives\\Predictive Analytics\\CERF Anticipatory Action\\General - All AA projects\\Data\\public\\exploration\\moz\\ecmwf_hindcast\\csv\\hellen_all.csv\n",
      "Processing file: G:\\Shared drives\\Predictive Analytics\\CERF Anticipatory Action\\General - All AA projects\\Data\\public\\exploration\\moz\\ecmwf_hindcast\\csv\\chedza_all.csv\n",
      "Processing file: G:\\Shared drives\\Predictive Analytics\\CERF Anticipatory Action\\General - All AA projects\\Data\\public\\exploration\\moz\\ecmwf_hindcast\\csv\\dineo_all.csv\n",
      "Processing file: G:\\Shared drives\\Predictive Analytics\\CERF Anticipatory Action\\General - All AA projects\\Data\\public\\exploration\\moz\\ecmwf_hindcast\\csv\\desmond_all.csv\n",
      "Processing file: G:\\Shared drives\\Predictive Analytics\\CERF Anticipatory Action\\General - All AA projects\\Data\\public\\exploration\\moz\\ecmwf_hindcast\\csv\\idai_all.csv\n",
      "Processing file: G:\\Shared drives\\Predictive Analytics\\CERF Anticipatory Action\\General - All AA projects\\Data\\public\\exploration\\moz\\ecmwf_hindcast\\csv\\kenneth_all.csv\n",
      "Processing file: G:\\Shared drives\\Predictive Analytics\\CERF Anticipatory Action\\General - All AA projects\\Data\\public\\exploration\\moz\\ecmwf_hindcast\\csv\\chalane_all.csv\n",
      "Processing file: G:\\Shared drives\\Predictive Analytics\\CERF Anticipatory Action\\General - All AA projects\\Data\\public\\exploration\\moz\\ecmwf_hindcast\\csv\\eloise_all.csv\n",
      "Processing file: G:\\Shared drives\\Predictive Analytics\\CERF Anticipatory Action\\General - All AA projects\\Data\\public\\exploration\\moz\\ecmwf_hindcast\\csv\\guambe_all.csv\n",
      "Processing file: G:\\Shared drives\\Predictive Analytics\\CERF Anticipatory Action\\General - All AA projects\\Data\\public\\exploration\\moz\\ecmwf_hindcast\\csv\\ana_all.csv\n",
      "Processing file: G:\\Shared drives\\Predictive Analytics\\CERF Anticipatory Action\\General - All AA projects\\Data\\public\\exploration\\moz\\ecmwf_hindcast\\csv\\gombe_all.csv\n",
      "Processing file: G:\\Shared drives\\Predictive Analytics\\CERF Anticipatory Action\\General - All AA projects\\Data\\public\\exploration\\moz\\ecmwf_hindcast\\csv\\jasmine_all.csv\n",
      "Processing file: G:\\Shared drives\\Predictive Analytics\\CERF Anticipatory Action\\General - All AA projects\\Data\\public\\exploration\\moz\\ecmwf_hindcast\\csv\\freddy_all.csv\n",
      "Processing file: G:\\Shared drives\\Predictive Analytics\\CERF Anticipatory Action\\General - All AA projects\\Data\\public\\exploration\\moz\\ecmwf_hindcast\\csv\\filipo_all.csv\n"
     ]
    }
   ],
   "source": [
    "cyclone_speed = []\n",
    "for cyclone_file_path in glob.glob(str(save_dir / \"csv/*_all.csv\")):\n",
    "    cyclone_name = Path(cyclone_file_path).stem.split(\"_\")[0]\n",
    "    print(f\"Processing file: {cyclone_file_path}\")\n",
    "    cyclone_file = pd.read_csv(cyclone_file_path)\n",
    "    cyclone_file[\"time\"] = pd.to_datetime(cyclone_file[\"time\"])\n",
    "\n",
    "    cyclone_df = (\n",
    "        cyclone_file[[\"time\", \"speed\", \"lat\", \"lon\", \"lead_time\", \"forecast_time\"]]\n",
    "        .groupby([\"time\", \"forecast_time\"])\n",
    "        .median()\n",
    "        .reset_index()\n",
    "    )\n",
    "    cyclone_df[\"lat\"] = cyclone_df[\"lat\"].apply(lambda x: -x if x > 0 else x)\n",
    "\n",
    "    cyclone_df[\"speed_knots\"] = cyclone_df[\"speed\"] * 1.94384\n",
    "    cyclone_df[\"storm_category\"] = cyclone_df[\"speed_knots\"].apply(categorize_cyclone)\n",
    "    cyc_ls = []\n",
    "    lt_0_df = gpd.GeoDataFrame(\n",
    "        cyclone_df,\n",
    "        geometry=gpd.points_from_xy(cyclone_df.lon, cyclone_df.lat),\n",
    "        crs=\"EPSG:4326\",\n",
    "    )\n",
    "    cyc_sjoin = gpd.sjoin(lt_0_df, gdf_sel, how=\"left\", predicate=\"intersects\")\n",
    "    lt_0_df[\"within_land\"] = cyc_sjoin[\"index_right\"].notna()\n",
    "    lt_0_df[\"point_location\"] = np.where(lt_0_df[\"within_land\"], \"Within\", \"Outside\")\n",
    "\n",
    "    first_landfall = (\n",
    "        lt_0_df[lt_0_df[\"within_land\"]].index[0]\n",
    "        if not lt_0_df[lt_0_df[\"within_land\"]].empty\n",
    "        else None\n",
    "    )\n",
    "    if first_landfall is None:\n",
    "        continue\n",
    "    lt_0_df.loc[lt_0_df.index == first_landfall, \"point_location\"] = \"Landfall\"\n",
    "    landfall_time = pd.to_datetime(\n",
    "        lt_0_df[lt_0_df[\"point_location\"] == \"Landfall\"][\"time\"].values[0]\n",
    "    )\n",
    "    lt_0_df[\"time_to_landfall\"] = (\n",
    "        landfall_time - pd.to_datetime(lt_0_df[\"forecast_time\"])\n",
    "    ).dt.total_seconds() / 3600\n",
    "    lt_0_df[\"time_from_landfall\"] = lt_0_df[\"lead_time\"] - lt_0_df[\"time_to_landfall\"]\n",
    "    # lt_0_df = lt_0_df[(lt_0_df[\"time_to_landfall\"] <= 12)]\n",
    "    cyc_df = lt_0_df  # [(lt_0_df[\"point_location\"] != \"Outside\") | ((lt_0_df[\"time_from_landfall\"] >= -12) & (lt_0_df[\"time_from_landfall\"] <= 12))]\n",
    "    cyc_ls.append(cyc_df)\n",
    "    if len(cyc_ls) > 0:\n",
    "        cyc_df = pd.concat(cyc_ls)\n",
    "        cyc_df[\"storm\"] = cyclone_name.upper()\n",
    "        cyclone_speed.append(cyc_df)\n",
    "\n",
    "cyclone_out = pd.concat(cyclone_speed)"
   ]
  },
  {
   "cell_type": "code",
   "execution_count": 13,
   "metadata": {},
   "outputs": [],
   "source": [
    "storm_max_ws = (\n",
    "    cyclone_out[\n",
    "        (cyclone_out[\"time_to_landfall\"].between(-12, 12, inclusive=\"both\"))\n",
    "        & cyclone_out[\"within_land\"]\n",
    "    ]\n",
    "    .groupby(\"storm\")[\"speed_knots\"]\n",
    "    .max()\n",
    "    .reset_index()\n",
    ")"
   ]
  },
  {
   "cell_type": "code",
   "execution_count": 24,
   "metadata": {},
   "outputs": [
    {
     "data": {
      "text/html": [
       "<div>\n",
       "<style scoped>\n",
       "    .dataframe tbody tr th:only-of-type {\n",
       "        vertical-align: middle;\n",
       "    }\n",
       "\n",
       "    .dataframe tbody tr th {\n",
       "        vertical-align: top;\n",
       "    }\n",
       "\n",
       "    .dataframe thead th {\n",
       "        text-align: right;\n",
       "    }\n",
       "</style>\n",
       "<table border=\"1\" class=\"dataframe\">\n",
       "  <thead>\n",
       "    <tr style=\"text-align: right;\">\n",
       "      <th></th>\n",
       "      <th>storm</th>\n",
       "      <th>speed_knots</th>\n",
       "    </tr>\n",
       "  </thead>\n",
       "  <tbody>\n",
       "    <tr>\n",
       "      <th>4</th>\n",
       "      <td>DINEO</td>\n",
       "      <td>56.954512</td>\n",
       "    </tr>\n",
       "    <tr>\n",
       "      <th>5</th>\n",
       "      <td>ELOISE</td>\n",
       "      <td>56.954512</td>\n",
       "    </tr>\n",
       "    <tr>\n",
       "      <th>7</th>\n",
       "      <td>FILIPO</td>\n",
       "      <td>48.012848</td>\n",
       "    </tr>\n",
       "    <tr>\n",
       "      <th>8</th>\n",
       "      <td>FREDDY</td>\n",
       "      <td>55.010672</td>\n",
       "    </tr>\n",
       "    <tr>\n",
       "      <th>10</th>\n",
       "      <td>IDAI</td>\n",
       "      <td>68.034400</td>\n",
       "    </tr>\n",
       "  </tbody>\n",
       "</table>\n",
       "</div>"
      ],
      "text/plain": [
       "     storm  speed_knots\n",
       "4    DINEO    56.954512\n",
       "5   ELOISE    56.954512\n",
       "7   FILIPO    48.012848\n",
       "8   FREDDY    55.010672\n",
       "10    IDAI    68.034400"
      ]
     },
     "execution_count": 24,
     "metadata": {},
     "output_type": "execute_result"
    }
   ],
   "source": [
    "storm_max_ws[storm_max_ws[\"speed_knots\"] >= 48]"
   ]
  },
  {
   "cell_type": "code",
   "execution_count": 22,
   "metadata": {},
   "outputs": [
    {
     "data": {
      "application/vnd.plotly.v1+json": {
       "config": {
        "plotlyServerURL": "https://plot.ly"
       },
       "data": [
        {
         "alignmentgroup": "True",
         "hovertemplate": "Storm=%{x}<br>Speed (knots)=%{y}<extra></extra>",
         "legendgroup": "",
         "marker": {
          "color": "#636efa",
          "pattern": {
           "shape": ""
          }
         },
         "name": "",
         "offsetgroup": "",
         "orientation": "v",
         "showlegend": false,
         "textposition": "auto",
         "type": "bar",
         "x": [
          "DESMOND",
          "CHALANE",
          "GOMBE",
          "JOKWE",
          "ANA",
          "FAVIO",
          "DANDO",
          "FILIPO",
          "FREDDY",
          "ELOISE",
          "DINEO",
          "IDAI"
         ],
         "xaxis": "x",
         "y": [
          28.963216,
          39.071184,
          40.043104,
          41.79256,
          41.986944,
          42.958864000000005,
          43.347632000000004,
          48.012848,
          55.010672,
          56.954512,
          56.954512,
          68.0344
         ],
         "yaxis": "y"
        }
       ],
       "layout": {
        "barmode": "relative",
        "legend": {
         "tracegroupgap": 0
        },
        "template": {
         "data": {
          "bar": [
           {
            "error_x": {
             "color": "#2a3f5f"
            },
            "error_y": {
             "color": "#2a3f5f"
            },
            "marker": {
             "line": {
              "color": "#E5ECF6",
              "width": 0.5
             },
             "pattern": {
              "fillmode": "overlay",
              "size": 10,
              "solidity": 0.2
             }
            },
            "type": "bar"
           }
          ],
          "barpolar": [
           {
            "marker": {
             "line": {
              "color": "#E5ECF6",
              "width": 0.5
             },
             "pattern": {
              "fillmode": "overlay",
              "size": 10,
              "solidity": 0.2
             }
            },
            "type": "barpolar"
           }
          ],
          "carpet": [
           {
            "aaxis": {
             "endlinecolor": "#2a3f5f",
             "gridcolor": "white",
             "linecolor": "white",
             "minorgridcolor": "white",
             "startlinecolor": "#2a3f5f"
            },
            "baxis": {
             "endlinecolor": "#2a3f5f",
             "gridcolor": "white",
             "linecolor": "white",
             "minorgridcolor": "white",
             "startlinecolor": "#2a3f5f"
            },
            "type": "carpet"
           }
          ],
          "choropleth": [
           {
            "colorbar": {
             "outlinewidth": 0,
             "ticks": ""
            },
            "type": "choropleth"
           }
          ],
          "contour": [
           {
            "colorbar": {
             "outlinewidth": 0,
             "ticks": ""
            },
            "colorscale": [
             [
              0,
              "#0d0887"
             ],
             [
              0.1111111111111111,
              "#46039f"
             ],
             [
              0.2222222222222222,
              "#7201a8"
             ],
             [
              0.3333333333333333,
              "#9c179e"
             ],
             [
              0.4444444444444444,
              "#bd3786"
             ],
             [
              0.5555555555555556,
              "#d8576b"
             ],
             [
              0.6666666666666666,
              "#ed7953"
             ],
             [
              0.7777777777777778,
              "#fb9f3a"
             ],
             [
              0.8888888888888888,
              "#fdca26"
             ],
             [
              1,
              "#f0f921"
             ]
            ],
            "type": "contour"
           }
          ],
          "contourcarpet": [
           {
            "colorbar": {
             "outlinewidth": 0,
             "ticks": ""
            },
            "type": "contourcarpet"
           }
          ],
          "heatmap": [
           {
            "colorbar": {
             "outlinewidth": 0,
             "ticks": ""
            },
            "colorscale": [
             [
              0,
              "#0d0887"
             ],
             [
              0.1111111111111111,
              "#46039f"
             ],
             [
              0.2222222222222222,
              "#7201a8"
             ],
             [
              0.3333333333333333,
              "#9c179e"
             ],
             [
              0.4444444444444444,
              "#bd3786"
             ],
             [
              0.5555555555555556,
              "#d8576b"
             ],
             [
              0.6666666666666666,
              "#ed7953"
             ],
             [
              0.7777777777777778,
              "#fb9f3a"
             ],
             [
              0.8888888888888888,
              "#fdca26"
             ],
             [
              1,
              "#f0f921"
             ]
            ],
            "type": "heatmap"
           }
          ],
          "heatmapgl": [
           {
            "colorbar": {
             "outlinewidth": 0,
             "ticks": ""
            },
            "colorscale": [
             [
              0,
              "#0d0887"
             ],
             [
              0.1111111111111111,
              "#46039f"
             ],
             [
              0.2222222222222222,
              "#7201a8"
             ],
             [
              0.3333333333333333,
              "#9c179e"
             ],
             [
              0.4444444444444444,
              "#bd3786"
             ],
             [
              0.5555555555555556,
              "#d8576b"
             ],
             [
              0.6666666666666666,
              "#ed7953"
             ],
             [
              0.7777777777777778,
              "#fb9f3a"
             ],
             [
              0.8888888888888888,
              "#fdca26"
             ],
             [
              1,
              "#f0f921"
             ]
            ],
            "type": "heatmapgl"
           }
          ],
          "histogram": [
           {
            "marker": {
             "pattern": {
              "fillmode": "overlay",
              "size": 10,
              "solidity": 0.2
             }
            },
            "type": "histogram"
           }
          ],
          "histogram2d": [
           {
            "colorbar": {
             "outlinewidth": 0,
             "ticks": ""
            },
            "colorscale": [
             [
              0,
              "#0d0887"
             ],
             [
              0.1111111111111111,
              "#46039f"
             ],
             [
              0.2222222222222222,
              "#7201a8"
             ],
             [
              0.3333333333333333,
              "#9c179e"
             ],
             [
              0.4444444444444444,
              "#bd3786"
             ],
             [
              0.5555555555555556,
              "#d8576b"
             ],
             [
              0.6666666666666666,
              "#ed7953"
             ],
             [
              0.7777777777777778,
              "#fb9f3a"
             ],
             [
              0.8888888888888888,
              "#fdca26"
             ],
             [
              1,
              "#f0f921"
             ]
            ],
            "type": "histogram2d"
           }
          ],
          "histogram2dcontour": [
           {
            "colorbar": {
             "outlinewidth": 0,
             "ticks": ""
            },
            "colorscale": [
             [
              0,
              "#0d0887"
             ],
             [
              0.1111111111111111,
              "#46039f"
             ],
             [
              0.2222222222222222,
              "#7201a8"
             ],
             [
              0.3333333333333333,
              "#9c179e"
             ],
             [
              0.4444444444444444,
              "#bd3786"
             ],
             [
              0.5555555555555556,
              "#d8576b"
             ],
             [
              0.6666666666666666,
              "#ed7953"
             ],
             [
              0.7777777777777778,
              "#fb9f3a"
             ],
             [
              0.8888888888888888,
              "#fdca26"
             ],
             [
              1,
              "#f0f921"
             ]
            ],
            "type": "histogram2dcontour"
           }
          ],
          "mesh3d": [
           {
            "colorbar": {
             "outlinewidth": 0,
             "ticks": ""
            },
            "type": "mesh3d"
           }
          ],
          "parcoords": [
           {
            "line": {
             "colorbar": {
              "outlinewidth": 0,
              "ticks": ""
             }
            },
            "type": "parcoords"
           }
          ],
          "pie": [
           {
            "automargin": true,
            "type": "pie"
           }
          ],
          "scatter": [
           {
            "fillpattern": {
             "fillmode": "overlay",
             "size": 10,
             "solidity": 0.2
            },
            "type": "scatter"
           }
          ],
          "scatter3d": [
           {
            "line": {
             "colorbar": {
              "outlinewidth": 0,
              "ticks": ""
             }
            },
            "marker": {
             "colorbar": {
              "outlinewidth": 0,
              "ticks": ""
             }
            },
            "type": "scatter3d"
           }
          ],
          "scattercarpet": [
           {
            "marker": {
             "colorbar": {
              "outlinewidth": 0,
              "ticks": ""
             }
            },
            "type": "scattercarpet"
           }
          ],
          "scattergeo": [
           {
            "marker": {
             "colorbar": {
              "outlinewidth": 0,
              "ticks": ""
             }
            },
            "type": "scattergeo"
           }
          ],
          "scattergl": [
           {
            "marker": {
             "colorbar": {
              "outlinewidth": 0,
              "ticks": ""
             }
            },
            "type": "scattergl"
           }
          ],
          "scattermapbox": [
           {
            "marker": {
             "colorbar": {
              "outlinewidth": 0,
              "ticks": ""
             }
            },
            "type": "scattermapbox"
           }
          ],
          "scatterpolar": [
           {
            "marker": {
             "colorbar": {
              "outlinewidth": 0,
              "ticks": ""
             }
            },
            "type": "scatterpolar"
           }
          ],
          "scatterpolargl": [
           {
            "marker": {
             "colorbar": {
              "outlinewidth": 0,
              "ticks": ""
             }
            },
            "type": "scatterpolargl"
           }
          ],
          "scatterternary": [
           {
            "marker": {
             "colorbar": {
              "outlinewidth": 0,
              "ticks": ""
             }
            },
            "type": "scatterternary"
           }
          ],
          "surface": [
           {
            "colorbar": {
             "outlinewidth": 0,
             "ticks": ""
            },
            "colorscale": [
             [
              0,
              "#0d0887"
             ],
             [
              0.1111111111111111,
              "#46039f"
             ],
             [
              0.2222222222222222,
              "#7201a8"
             ],
             [
              0.3333333333333333,
              "#9c179e"
             ],
             [
              0.4444444444444444,
              "#bd3786"
             ],
             [
              0.5555555555555556,
              "#d8576b"
             ],
             [
              0.6666666666666666,
              "#ed7953"
             ],
             [
              0.7777777777777778,
              "#fb9f3a"
             ],
             [
              0.8888888888888888,
              "#fdca26"
             ],
             [
              1,
              "#f0f921"
             ]
            ],
            "type": "surface"
           }
          ],
          "table": [
           {
            "cells": {
             "fill": {
              "color": "#EBF0F8"
             },
             "line": {
              "color": "white"
             }
            },
            "header": {
             "fill": {
              "color": "#C8D4E3"
             },
             "line": {
              "color": "white"
             }
            },
            "type": "table"
           }
          ]
         },
         "layout": {
          "annotationdefaults": {
           "arrowcolor": "#2a3f5f",
           "arrowhead": 0,
           "arrowwidth": 1
          },
          "autotypenumbers": "strict",
          "coloraxis": {
           "colorbar": {
            "outlinewidth": 0,
            "ticks": ""
           }
          },
          "colorscale": {
           "diverging": [
            [
             0,
             "#8e0152"
            ],
            [
             0.1,
             "#c51b7d"
            ],
            [
             0.2,
             "#de77ae"
            ],
            [
             0.3,
             "#f1b6da"
            ],
            [
             0.4,
             "#fde0ef"
            ],
            [
             0.5,
             "#f7f7f7"
            ],
            [
             0.6,
             "#e6f5d0"
            ],
            [
             0.7,
             "#b8e186"
            ],
            [
             0.8,
             "#7fbc41"
            ],
            [
             0.9,
             "#4d9221"
            ],
            [
             1,
             "#276419"
            ]
           ],
           "sequential": [
            [
             0,
             "#0d0887"
            ],
            [
             0.1111111111111111,
             "#46039f"
            ],
            [
             0.2222222222222222,
             "#7201a8"
            ],
            [
             0.3333333333333333,
             "#9c179e"
            ],
            [
             0.4444444444444444,
             "#bd3786"
            ],
            [
             0.5555555555555556,
             "#d8576b"
            ],
            [
             0.6666666666666666,
             "#ed7953"
            ],
            [
             0.7777777777777778,
             "#fb9f3a"
            ],
            [
             0.8888888888888888,
             "#fdca26"
            ],
            [
             1,
             "#f0f921"
            ]
           ],
           "sequentialminus": [
            [
             0,
             "#0d0887"
            ],
            [
             0.1111111111111111,
             "#46039f"
            ],
            [
             0.2222222222222222,
             "#7201a8"
            ],
            [
             0.3333333333333333,
             "#9c179e"
            ],
            [
             0.4444444444444444,
             "#bd3786"
            ],
            [
             0.5555555555555556,
             "#d8576b"
            ],
            [
             0.6666666666666666,
             "#ed7953"
            ],
            [
             0.7777777777777778,
             "#fb9f3a"
            ],
            [
             0.8888888888888888,
             "#fdca26"
            ],
            [
             1,
             "#f0f921"
            ]
           ]
          },
          "colorway": [
           "#636efa",
           "#EF553B",
           "#00cc96",
           "#ab63fa",
           "#FFA15A",
           "#19d3f3",
           "#FF6692",
           "#B6E880",
           "#FF97FF",
           "#FECB52"
          ],
          "font": {
           "color": "#2a3f5f"
          },
          "geo": {
           "bgcolor": "white",
           "lakecolor": "white",
           "landcolor": "#E5ECF6",
           "showlakes": true,
           "showland": true,
           "subunitcolor": "white"
          },
          "hoverlabel": {
           "align": "left"
          },
          "hovermode": "closest",
          "mapbox": {
           "style": "light"
          },
          "paper_bgcolor": "white",
          "plot_bgcolor": "#E5ECF6",
          "polar": {
           "angularaxis": {
            "gridcolor": "white",
            "linecolor": "white",
            "ticks": ""
           },
           "bgcolor": "#E5ECF6",
           "radialaxis": {
            "gridcolor": "white",
            "linecolor": "white",
            "ticks": ""
           }
          },
          "scene": {
           "xaxis": {
            "backgroundcolor": "#E5ECF6",
            "gridcolor": "white",
            "gridwidth": 2,
            "linecolor": "white",
            "showbackground": true,
            "ticks": "",
            "zerolinecolor": "white"
           },
           "yaxis": {
            "backgroundcolor": "#E5ECF6",
            "gridcolor": "white",
            "gridwidth": 2,
            "linecolor": "white",
            "showbackground": true,
            "ticks": "",
            "zerolinecolor": "white"
           },
           "zaxis": {
            "backgroundcolor": "#E5ECF6",
            "gridcolor": "white",
            "gridwidth": 2,
            "linecolor": "white",
            "showbackground": true,
            "ticks": "",
            "zerolinecolor": "white"
           }
          },
          "shapedefaults": {
           "line": {
            "color": "#2a3f5f"
           }
          },
          "ternary": {
           "aaxis": {
            "gridcolor": "white",
            "linecolor": "white",
            "ticks": ""
           },
           "baxis": {
            "gridcolor": "white",
            "linecolor": "white",
            "ticks": ""
           },
           "bgcolor": "#E5ECF6",
           "caxis": {
            "gridcolor": "white",
            "linecolor": "white",
            "ticks": ""
           }
          },
          "title": {
           "x": 0.05
          },
          "xaxis": {
           "automargin": true,
           "gridcolor": "white",
           "linecolor": "white",
           "ticks": "",
           "title": {
            "standoff": 15
           },
           "zerolinecolor": "white",
           "zerolinewidth": 2
          },
          "yaxis": {
           "automargin": true,
           "gridcolor": "white",
           "linecolor": "white",
           "ticks": "",
           "title": {
            "standoff": 15
           },
           "zerolinecolor": "white",
           "zerolinewidth": 2
          }
         }
        },
        "title": {
         "text": "Maximum Storm Speed on Land in Knots"
        },
        "xaxis": {
         "anchor": "y",
         "categoryorder": "total ascending",
         "domain": [
          0,
          1
         ],
         "tickangle": -40,
         "title": {
          "text": "Storm"
         }
        },
        "yaxis": {
         "anchor": "x",
         "domain": [
          0,
          1
         ],
         "title": {
          "text": "Speed (knots)"
         }
        }
       }
      }
     },
     "metadata": {},
     "output_type": "display_data"
    }
   ],
   "source": [
    "# Sort the values by speed_knots in ascending order\n",
    "df_sorted = storm_max_ws.sort_values(by=\"speed_knots\", ascending=True)\n",
    "\n",
    "# Plot with Plotly\n",
    "fig = px.bar(\n",
    "    df_sorted,\n",
    "    x=\"storm\",\n",
    "    y=\"speed_knots\",\n",
    "    title=\"Maximum Storm Speed on Land in Knots\",\n",
    "    labels={\"storm\": \"Storm\", \"speed_knots\": \"Speed (knots)\"},\n",
    ")\n",
    "fig.update_layout(xaxis={\"categoryorder\": \"total ascending\", \"tickangle\": -40})\n",
    "\n",
    "fig.show()"
   ]
  }
 ],
 "metadata": {
  "kernelspec": {
   "display_name": ".venv",
   "language": "python",
   "name": "python3"
  },
  "language_info": {
   "codemirror_mode": {
    "name": "ipython",
    "version": 3
   },
   "file_extension": ".py",
   "mimetype": "text/x-python",
   "name": "python",
   "nbconvert_exporter": "python",
   "pygments_lexer": "ipython3",
   "version": "3.11.0"
  }
 },
 "nbformat": 4,
 "nbformat_minor": 2
}
