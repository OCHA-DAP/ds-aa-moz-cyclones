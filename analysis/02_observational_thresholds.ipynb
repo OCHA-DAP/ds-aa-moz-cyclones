{
 "cells": [
  {
   "cell_type": "code",
   "execution_count": null,
   "metadata": {},
   "outputs": [],
   "source": [
    "%load_ext jupyter_black\n",
    "%load_ext autoreload\n",
    "%autoreload 2"
   ]
  },
  {
   "cell_type": "code",
   "execution_count": null,
   "metadata": {},
   "outputs": [],
   "source": [
    "import os\n",
    "import tqdm\n",
    "import pandas as pd\n",
    "from dotenv import load_dotenv\n",
    "from pathlib import Path\n",
    "import geopandas as gpd\n",
    "from datetime import datetime\n",
    "import rioxarray as rxr\n",
    "from azure.storage.blob import ContainerClient\n",
    "import xarray as xr\n",
    "import matplotlib.pyplot as plt\n",
    "\n",
    "load_dotenv()\n",
    "ADMS = [\"Sofala\", \"Inhambane\", \"Nampula\", \"Zambezia\"]\n",
    "AA_DATA_DIR = Path(os.getenv(\"AA_DATA_DIR\"))\n",
    "AA_DATA_DIR_NEW = Path(os.getenv(\"AA_DATA_DIR_NEW\"))\n",
    "\n",
    "DEV_BLOB_SAS = os.getenv(\"DSCI_AZ_SAS_DEV\")\n",
    "DEV_BLOB_NAME = \"imb0chd0dev\"\n",
    "DEV_BLOB_URL = f\"https://{DEV_BLOB_NAME}.blob.core.windows.net/\"\n",
    "DEV_BLOB_PROJ_URL = DEV_BLOB_URL + \"projects\" + \"?\" + DEV_BLOB_SAS\n",
    "GLOBAL_CONTAINER_NAME = \"global\"\n",
    "DEV_BLOB_GLB_URL = DEV_BLOB_URL + GLOBAL_CONTAINER_NAME + \"?\" + DEV_BLOB_SAS\n",
    "\n",
    "dev_glb_container_client = ContainerClient.from_container_url(DEV_BLOB_GLB_URL)"
   ]
  },
  {
   "cell_type": "markdown",
   "metadata": {},
   "source": [
    "## 1. Loading in raw data"
   ]
  },
  {
   "cell_type": "code",
   "execution_count": null,
   "metadata": {},
   "outputs": [],
   "source": [
    "emdat_path = (\n",
    "    AA_DATA_DIR_NEW\n",
    "    / \"private\"\n",
    "    / \"processed\"\n",
    "    / \"glb\"\n",
    "    / \"emdat\"\n",
    "    / \"emdat-tropicalcyclone-2000-2022-processed-sids.csv\"\n",
    ")\n",
    "\n",
    "ibtracs_path = (\n",
    "    Path(AA_DATA_DIR)\n",
    "    / \"public\"\n",
    "    / \"raw\"\n",
    "    / \"glb\"\n",
    "    / \"ibtracs\"\n",
    "    / \"IBTrACS.SI.list.v04r01.points/IBTrACS.SI.list.v04r01.points.shp\"\n",
    ")\n",
    "\n",
    "adm1_path = (\n",
    "    AA_DATA_DIR\n",
    "    / \"public\"\n",
    "    / \"raw\"\n",
    "    / \"moz\"\n",
    "    / \"cod_ab\"\n",
    "    / \"moz_admbnda_adm1_ine_20190607.shp\"\n",
    ")\n",
    "\n",
    "df_emdat = pd.read_csv(emdat_path)\n",
    "gdf_adm1 = gpd.read_file(adm1_path)\n",
    "gdf_sel = gdf_adm1[gdf_adm1.ADM1_PT.isin(ADMS)]\n",
    "gdf_ibtracs = gpd.read_file(ibtracs_path)"
   ]
  },
  {
   "cell_type": "markdown",
   "metadata": {},
   "source": [
    "Clean up EM-DAT data to get list of impactful cyclones that hit landfall in our AOI in Mozambique. Combine with IBTrACS data."
   ]
  },
  {
   "cell_type": "code",
   "execution_count": null,
   "metadata": {},
   "outputs": [],
   "source": [
    "df_emdat_sel = df_emdat[df_emdat.iso3 == \"MOZ\"]\n",
    "df_emdat_sel"
   ]
  },
  {
   "cell_type": "code",
   "execution_count": null,
   "metadata": {},
   "outputs": [],
   "source": [
    "gdf_ibtracs[\"time\"] = pd.to_datetime(gdf_ibtracs[\"ISO_TIME\"])\n",
    "\n",
    "for sid, group in gdf_ibtracs.groupby(\"SID\"):\n",
    "    print(sid)\n",
    "    df_interp = group.set_index(\"time\").resample(\"30min\").interpolate().reset_index()"
   ]
  },
  {
   "cell_type": "code",
   "execution_count": null,
   "metadata": {},
   "outputs": [],
   "source": [
    "gdf_ibtracs"
   ]
  }
 ],
 "metadata": {
  "kernelspec": {
   "display_name": "venv",
   "language": "python",
   "name": "python3"
  },
  "language_info": {
   "codemirror_mode": {
    "name": "ipython",
    "version": 3
   },
   "file_extension": ".py",
   "mimetype": "text/x-python",
   "name": "python",
   "nbconvert_exporter": "python",
   "pygments_lexer": "ipython3",
   "version": "3.12.4"
  }
 },
 "nbformat": 4,
 "nbformat_minor": 2
}
