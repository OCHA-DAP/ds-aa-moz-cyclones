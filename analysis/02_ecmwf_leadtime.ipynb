{
 "cells": [
  {
   "cell_type": "markdown",
   "metadata": {},
   "source": [
    "# Reviewing ECMWF hindcasts \n",
    "\n",
    "## Check for possibility of a readiness trigger with a longer lead time"
   ]
  },
  {
   "cell_type": "markdown",
   "metadata": {},
   "source": [
    "The current forecast (Meteo France La Reunion) provides limited lead time and we should explore if we could use ECMWF to have a readiness signal. I would basically check some basic perfomance metrics vs lead time and decide with partners what is acceptable."
   ]
  },
  {
   "cell_type": "code",
   "execution_count": 8,
   "metadata": {},
   "outputs": [
    {
     "name": "stdout",
     "output_type": "stream",
     "text": [
      "The jupyter_black extension is already loaded. To reload it, use:\n",
      "  %reload_ext jupyter_black\n"
     ]
    }
   ],
   "source": [
    "%load_ext jupyter_black\n",
    "\n",
    "import os\n",
    "from datetime import datetime\n",
    "from pathlib import Path\n",
    "import requests\n",
    "from dateutil import rrule"
   ]
  },
  {
   "cell_type": "markdown",
   "metadata": {},
   "source": [
    "### Getting dates for cyclones"
   ]
  },
  {
   "cell_type": "code",
   "execution_count": null,
   "metadata": {},
   "outputs": [],
   "source": []
  },
  {
   "cell_type": "markdown",
   "metadata": {},
   "source": [
    "### Downloading Hindcasts"
   ]
  },
  {
   "cell_type": "code",
   "execution_count": 9,
   "metadata": {},
   "outputs": [],
   "source": [
    "save_dir = Path(os.environ[\"MOZ_HINDCAST_DIR\"])\n",
    "email = input(\"email: \")\n",
    "pswd = input(\"password: \")\n",
    "values = {\"email\": email, \"passwd\": pswd, \"action\": \"login\"}\n",
    "login_url = \"https://rda.ucar.edu/cgi-bin/login\"\n",
    "values = {\n",
    "    \"orcid_id\": \"0009-0005-2381-1687\",\n",
    "    \"api_token\": \"3540ef15c154baec6a21fe2587b2\",\n",
    "    \"action\": \"tokenlogin\",\n",
    "}\n",
    "ret = requests.post(login_url, data=values)\n",
    "if ret.status_code != 200:\n",
    "    print(\"Bad Authentication\")\n",
    "    print(ret.text)\n",
    "    exit(1)"
   ]
  },
  {
   "cell_type": "code",
   "execution_count": 10,
   "metadata": {},
   "outputs": [],
   "source": [
    "start_date = datetime(2020, 9, 16, 0, 0, 0)\n",
    "dspath = \"https://rda.ucar.edu/datasets/ds330.3/\"\n",
    "date_list = rrule.rrule(\n",
    "    rrule.HOURLY,\n",
    "    dtstart=start_date,\n",
    "    until=datetime.utcnow().date(),\n",
    "    interval=12,\n",
    ")\n",
    "verbose = True\n",
    "dspath = \"https://data.rda.ucar.edu/ds330.3/\""
   ]
  },
  {
   "cell_type": "code",
   "execution_count": 15,
   "metadata": {},
   "outputs": [
    {
     "name": "stdout",
     "output_type": "stream",
     "text": [
      "ecmf/2020/20200916/z_tigge_c_ecmf_20200916000000_ifs_glob_prod_all_glo.xml downloading\n"
     ]
    },
    {
     "ename": "FileNotFoundError",
     "evalue": "[Errno 2] No such file or directory: 'G:\\\\Shared drives\\\\Predictive Analytics\\\\CERF Anticipatory Action\\\\General - All AA projects\\\\Data\\\\public\\\\exploration\\\\moz\\\\ecmwf_hindcast\\\\xml\\\\z_tigge_c_ecmf_20200916000000_ifs_glob_prod_all_glo.xml'",
     "output_type": "error",
     "traceback": [
      "\u001b[1;31m---------------------------------------------------------------------------\u001b[0m",
      "\u001b[1;31mFileNotFoundError\u001b[0m                         Traceback (most recent call last)",
      "Cell \u001b[1;32mIn[15], line 23\u001b[0m\n\u001b[0;32m     21\u001b[0m \u001b[38;5;28;01mif\u001b[39;00m verbose:\n\u001b[0;32m     22\u001b[0m     \u001b[38;5;28mprint\u001b[39m(\u001b[38;5;124mf\u001b[39m\u001b[38;5;124m\"\u001b[39m\u001b[38;5;132;01m{\u001b[39;00mfile\u001b[38;5;132;01m}\u001b[39;00m\u001b[38;5;124m downloading\u001b[39m\u001b[38;5;124m\"\u001b[39m)\n\u001b[1;32m---> 23\u001b[0m \u001b[38;5;28;43mopen\u001b[39;49m\u001b[43m(\u001b[49m\u001b[43moutfile\u001b[49m\u001b[43m,\u001b[49m\u001b[43m \u001b[49m\u001b[38;5;124;43m\"\u001b[39;49m\u001b[38;5;124;43mwb\u001b[39;49m\u001b[38;5;124;43m\"\u001b[39;49m\u001b[43m)\u001b[49m\u001b[38;5;241m.\u001b[39mwrite(req\u001b[38;5;241m.\u001b[39mcontent)\n",
      "File \u001b[1;32mc:\\Users\\pauni\\Desktop\\Work\\OCHA\\GitHub\\ds-aa-moz-cyclones\\.venv\\Lib\\site-packages\\IPython\\core\\interactiveshell.py:324\u001b[0m, in \u001b[0;36m_modified_open\u001b[1;34m(file, *args, **kwargs)\u001b[0m\n\u001b[0;32m    317\u001b[0m \u001b[38;5;28;01mif\u001b[39;00m file \u001b[38;5;129;01min\u001b[39;00m {\u001b[38;5;241m0\u001b[39m, \u001b[38;5;241m1\u001b[39m, \u001b[38;5;241m2\u001b[39m}:\n\u001b[0;32m    318\u001b[0m     \u001b[38;5;28;01mraise\u001b[39;00m \u001b[38;5;167;01mValueError\u001b[39;00m(\n\u001b[0;32m    319\u001b[0m         \u001b[38;5;124mf\u001b[39m\u001b[38;5;124m\"\u001b[39m\u001b[38;5;124mIPython won\u001b[39m\u001b[38;5;124m'\u001b[39m\u001b[38;5;124mt let you open fd=\u001b[39m\u001b[38;5;132;01m{\u001b[39;00mfile\u001b[38;5;132;01m}\u001b[39;00m\u001b[38;5;124m by default \u001b[39m\u001b[38;5;124m\"\u001b[39m\n\u001b[0;32m    320\u001b[0m         \u001b[38;5;124m\"\u001b[39m\u001b[38;5;124mas it is likely to crash IPython. If you know what you are doing, \u001b[39m\u001b[38;5;124m\"\u001b[39m\n\u001b[0;32m    321\u001b[0m         \u001b[38;5;124m\"\u001b[39m\u001b[38;5;124myou can use builtins\u001b[39m\u001b[38;5;124m'\u001b[39m\u001b[38;5;124m open.\u001b[39m\u001b[38;5;124m\"\u001b[39m\n\u001b[0;32m    322\u001b[0m     )\n\u001b[1;32m--> 324\u001b[0m \u001b[38;5;28;01mreturn\u001b[39;00m \u001b[43mio_open\u001b[49m\u001b[43m(\u001b[49m\u001b[43mfile\u001b[49m\u001b[43m,\u001b[49m\u001b[43m \u001b[49m\u001b[38;5;241;43m*\u001b[39;49m\u001b[43margs\u001b[49m\u001b[43m,\u001b[49m\u001b[43m \u001b[49m\u001b[38;5;241;43m*\u001b[39;49m\u001b[38;5;241;43m*\u001b[39;49m\u001b[43mkwargs\u001b[49m\u001b[43m)\u001b[49m\n",
      "\u001b[1;31mFileNotFoundError\u001b[0m: [Errno 2] No such file or directory: 'G:\\\\Shared drives\\\\Predictive Analytics\\\\CERF Anticipatory Action\\\\General - All AA projects\\\\Data\\\\public\\\\exploration\\\\moz\\\\ecmwf_hindcast\\\\xml\\\\z_tigge_c_ecmf_20200916000000_ifs_glob_prod_all_glo.xml'"
     ]
    }
   ],
   "source": [
    "for date in date_list:\n",
    "    ymd = date.strftime(\"%Y%m%d\")\n",
    "    ymdhms = date.strftime(\"%Y%m%d%H%M%S\")\n",
    "    server = \"test\" if date < datetime(2008, 8, 1) else \"prod\"\n",
    "    file = (\n",
    "        f\"ecmf/{date.year}/{ymd}/z_tigge_c_ecmf_{ymdhms}_\"\n",
    "        f\"ifs_glob_{server}_all_glo.xml\"\n",
    "    )\n",
    "    filename = dspath + file\n",
    "    outfile = save_dir / \"xml\" / os.path.basename(filename)\n",
    "    # Don't download if exists already\n",
    "    if outfile.exists():\n",
    "        if verbose:\n",
    "            print(f\"{file} already exists\")\n",
    "        continue\n",
    "    req = requests.get(filename, cookies=ret.cookies, allow_redirects=True)\n",
    "    if req.status_code != 200:\n",
    "        if verbose:\n",
    "            print(f\"{file} invalid URL\")\n",
    "        continue\n",
    "    if verbose:\n",
    "        print(f\"{file} downloading\")\n",
    "    open(outfile, \"wb\").write(req.content)"
   ]
  }
 ],
 "metadata": {
  "kernelspec": {
   "display_name": ".venv",
   "language": "python",
   "name": "python3"
  },
  "language_info": {
   "codemirror_mode": {
    "name": "ipython",
    "version": 3
   },
   "file_extension": ".py",
   "mimetype": "text/x-python",
   "name": "python",
   "nbconvert_exporter": "python",
   "pygments_lexer": "ipython3",
   "version": "3.11.0"
  }
 },
 "nbformat": 4,
 "nbformat_minor": 2
}
